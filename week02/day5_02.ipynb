{
 "cells": [
  {
   "cell_type": "markdown",
   "metadata": {},
   "source": [
    "# itertools 알아보기\n",
    "\n",
    "### combinations(iterable, r)\n",
    "iterable 으로부터, r 개를 뽑을 수 있는 모든 경우를 담은 리스트 반환\n",
    "\n",
    "결과를 `yeild`로 반환하기 때문에, 메서드가 아닌 제네레이터이다."
   ]
  },
  {
   "cell_type": "code",
   "execution_count": 2,
   "metadata": {},
   "outputs": [
    {
     "name": "stdout",
     "output_type": "stream",
     "text": [
      "(500, 1000)\n",
      "(500, 1500)\n",
      "(500, 2000)\n",
      "(500, 2500)\n",
      "(1000, 1500)\n",
      "(1000, 2000)\n",
      "(1000, 2500)\n",
      "(1500, 2000)\n",
      "(1500, 2500)\n",
      "(2000, 2500)\n"
     ]
    }
   ],
   "source": [
    "from itertools import combinations\n",
    "\n",
    "test = [500, 1000, 1500, 2000, 2500]\n",
    "\n",
    "combs = combinations(test, 2)\n",
    "for comb in combs:\n",
    "    print(comb)"
   ]
  },
  {
   "cell_type": "code",
   "execution_count": 9,
   "metadata": {},
   "outputs": [
    {
     "name": "stdout",
     "output_type": "stream",
     "text": [
      "<itertools.combinations object at 0x1039b3f60>\n"
     ]
    }
   ],
   "source": [
    "### 만약 리스트의 길이보다 r이 크다면\n",
    "### 별다른 에러를 내진 않는 듯 하다.\n",
    "test = [100]\n",
    "\n",
    "combs = combinations(test, 2)\n",
    "\n",
    "for c in combs:\n",
    "    print(c)\n",
    "print(combs)"
   ]
  },
  {
   "cell_type": "markdown",
   "metadata": {},
   "source": [
    "### product(*iterables, repeat=1)\n",
    "iterables 인자들 모두 데카르트곱 연산을 진행한다.\n",
    "- 데카르트곱은 카티션 프로덕트와 같은 연산\n",
    "\n",
    "\n",
    "결과를 `yeild`로 반환하기 때문에, 메서드가 아닌 제네레이터이다.\n",
    "\n",
    "repeat 인자는 몇 번 반복하여 연산할 것인지"
   ]
  },
  {
   "cell_type": "code",
   "execution_count": 18,
   "metadata": {},
   "outputs": [
    {
     "name": "stdout",
     "output_type": "stream",
     "text": [
      "('A', 'x', '1')\n",
      "('A', 'x', '2')\n",
      "('A', 'x', '3')\n",
      "('A', 'y', '1')\n",
      "('D', 'y', '3')\n",
      "('D', 'z', '1')\n",
      "('D', 'z', '2')\n",
      "('D', 'z', '3')\n"
     ]
    }
   ],
   "source": [
    "from itertools import product\n",
    "\n",
    "A = \"ABCD\"\n",
    "B = \"xyz\"\n",
    "C = \"123\"\n",
    "\n",
    "prods = product(A, B, C)\n",
    "for i, prod in enumerate(prods):\n",
    "    if i < 4 or i > 4 * 3 * 3 - 5:  # 앞 4개, 뒤 4개만 출력\n",
    "        print(prod)\n"
   ]
  },
  {
   "cell_type": "markdown",
   "metadata": {},
   "source": [
    "### permutations(iterable, r=None)\n",
    "\n",
    "iterable의 가능한 모든 순열을 반환 => nPr"
   ]
  },
  {
   "cell_type": "code",
   "execution_count": 19,
   "metadata": {},
   "outputs": [
    {
     "name": "stdout",
     "output_type": "stream",
     "text": [
      "('a', 'b')\n",
      "('a', 'c')\n",
      "('a', 'd')\n",
      "('b', 'a')\n",
      "('b', 'c')\n",
      "('b', 'd')\n",
      "('c', 'a')\n",
      "('c', 'b')\n",
      "('c', 'd')\n",
      "('d', 'a')\n",
      "('d', 'b')\n",
      "('d', 'c')\n"
     ]
    }
   ],
   "source": [
    "from itertools import permutations\n",
    "\n",
    "test = \"abcd\"\n",
    "\n",
    "perms = permutations(test, 2)\n",
    "\n",
    "for perm in perms:\n",
    "    print(perm)"
   ]
  }
 ],
 "metadata": {
  "kernelspec": {
   "display_name": "CryptoPilot",
   "language": "python",
   "name": "python3"
  },
  "language_info": {
   "codemirror_mode": {
    "name": "ipython",
    "version": 3
   },
   "file_extension": ".py",
   "mimetype": "text/x-python",
   "name": "python",
   "nbconvert_exporter": "python",
   "pygments_lexer": "ipython3",
   "version": "3.11.8"
  }
 },
 "nbformat": 4,
 "nbformat_minor": 2
}
