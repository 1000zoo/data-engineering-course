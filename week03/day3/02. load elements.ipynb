{
 "cells": [
  {
   "cell_type": "markdown",
   "metadata": {},
   "source": [
    "# Scraping 예제 - 책 이름 불러오기\n",
    "- 책 정보를 모아놓은 [사이트](https://books.toscrape.com/catalogue/category/books/travel_2/index.html)에서 책 이름을 불러와보자"
   ]
  },
  {
   "cell_type": "code",
   "execution_count": 1,
   "metadata": {},
   "outputs": [],
   "source": [
    "# 라이브러리 불러오기\n",
    "import requests\n",
    "from bs4 import BeautifulSoup as BS"
   ]
  },
  {
   "cell_type": "code",
   "execution_count": 3,
   "metadata": {},
   "outputs": [],
   "source": [
    "# 객체 생성\n",
    "res = requests.get(\"https://books.toscrape.com/catalogue/category/books/travel_2/index.html\")\n",
    "bs = BS(res.text, features=\"html.parser\")"
   ]
  },
  {
   "cell_type": "markdown",
   "metadata": {},
   "source": [
    "## 태그 분석하기\n",
    "- 해당 사이트에 들어가, 개발자도구를 켜고 원하는 정보가 어느 태그에 속해있는 지 분석\n",
    "- 분석하고, 해당 태그에 bs4를 이용하여 접근"
   ]
  },
  {
   "cell_type": "code",
   "execution_count": 6,
   "metadata": {},
   "outputs": [
    {
     "name": "stdout",
     "output_type": "stream",
     "text": [
      "<class 'bs4.element.ResultSet'>\n",
      "11\n"
     ]
    }
   ],
   "source": [
    "h3_results = bs.find_all(\"h3\")\n",
    "print(type(h3_results))\n",
    "print(len(h3_results))"
   ]
  },
  {
   "cell_type": "markdown",
   "metadata": {},
   "source": [
    "## 불러온 h3 태그로부터 제목 추출하기\n",
    "- h3 -> a -> title 에 제목이 있다.\n",
    "- 이를 모든 결과에 대해 불러온다."
   ]
  },
  {
   "cell_type": "code",
   "execution_count": 11,
   "metadata": {},
   "outputs": [
    {
     "name": "stdout",
     "output_type": "stream",
     "text": [
      "It's Only the Himalayas\n"
     ]
    }
   ],
   "source": [
    "## 하나만 해보기\n",
    "book1_result = h3_results[0]\n",
    "print(book1_result.a[\"title\"])"
   ]
  },
  {
   "cell_type": "code",
   "execution_count": 14,
   "metadata": {},
   "outputs": [
    {
     "name": "stdout",
     "output_type": "stream",
     "text": [
      "It's Only the Himalayas\n",
      "Full Moon over Noahâs Ark: An Odyssey to Mount Ararat and Beyond\n",
      "See America: A Celebration of Our National Parks & Treasured Sites\n",
      "Vagabonding: An Uncommon Guide to the Art of Long-Term World Travel\n",
      "Under the Tuscan Sun\n",
      "A Summer In Europe\n",
      "The Great Railway Bazaar\n",
      "A Year in Provence (Provence #1)\n",
      "The Road to Little Dribbling: Adventures of an American in Britain (Notes From a Small Island #2)\n",
      "Neither Here nor There: Travels in Europe\n",
      "1,000 Places to See Before You Die\n"
     ]
    }
   ],
   "source": [
    "## 모든 책의 제목을 리스트에 담기\n",
    "title_list = [book.a[\"title\"] for book in h3_results]\n",
    "print(\"\\n\".join(title_list))"
   ]
  }
 ],
 "metadata": {
  "kernelspec": {
   "display_name": "CryptoPilot",
   "language": "python",
   "name": "python3"
  },
  "language_info": {
   "codemirror_mode": {
    "name": "ipython",
    "version": 3
   },
   "file_extension": ".py",
   "mimetype": "text/x-python",
   "name": "python",
   "nbconvert_exporter": "python",
   "pygments_lexer": "ipython3",
   "version": "3.11.8"
  }
 },
 "nbformat": 4,
 "nbformat_minor": 2
}
