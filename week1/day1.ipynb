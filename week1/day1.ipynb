{
 "cells": [
  {
   "cell_type": "markdown",
   "metadata": {},
   "source": [
    "## 1강. 자료구조 & 알고리즘 정의, 간단한 예시\n",
    "### 파이썬 데이터 타입\n",
    "- 문자열 (str)\n",
    "- 리스트 (list)\n",
    "- 사전 (dict)\n",
    "- 집합 (set)\n",
    "- 순서쌍 (tuple)\n",
    "\n",
    "### 자료구조\n",
    "기본적인 데이터타입만을 가지고 해결할 수 없는 문제들이 있다.\n",
    "그럴 때 자료구조를 이용해야한다.\n",
    "\n",
    "=> 풀어야하는 문제가 무엇인지 파악하고, 문제를 해결하기 위해 사용해야할 자료구조를 생각해야할 필요가 있다.\n",
    "\n",
    "### 알고리즘\n",
    "- 어떤 문제를 해결하기 위한 절차, 방법, 명령어들의 집합\n",
    "- 주어진 문제의 해결을 위한 자료구조와 연산 방법에 대한 선택\n",
    "\n",
    "=> 무슨 일을 하느냐에 따라 최적의 해법은 달라진다.\n",
    "여러 자료구조나 알고리즘을 알고 있다면, 특정 문제를 해결하기 수월해진다.\n"
   ]
  },
  {
   "cell_type": "markdown",
   "metadata": {},
   "source": [
    "\n",
    "## 2강. 선형 배열\n",
    "### 배열 vs 리스트\n",
    "- 배열: 같은 종류의 데이터가 줄지어 모여있는 구조\n",
    "- 리스트: 배열에 비해 융통성있는 자료구조\n",
    "\n",
    "#### 배열\n",
    "- 원소들을 순서대로 늘어놓은 것\n",
    "\t- 정렬을 의미하지 않음\n",
    "\t- 각 원소들에는 번호가 붙어있음 (index)\n",
    "\n",
    "#### 리스트\n",
    "- 서로 다른 종류의 데이터들이 같은 리스트에 들어갈 수 있긴 하다.\n",
    "- 파이썬에서는 배열 대신 리스트를 사용한다.\n",
    "\n",
    "##### 메서드\n",
    "- append\n",
    "\t- 가장 마지막에 원소 추가\n",
    "- pop\n",
    "\t- 가장 마지막 원소 제거 (값 반환)\n",
    "- insert\n",
    "\t- 인덱스에 원소 추가\n",
    "\t- ex. `list.insert(1, 20)`\n",
    "\t- 3번 인덱스의 앞을 찾아내고, \n",
    "\t- 그 뒤의 원소들을 한칸씩 뒤로 옮기고, 해당 위치에 원소를 추가한다.\n",
    "- del(list[2])\n",
    "\t- 제거도 insert와 비슷\n",
    "\t- 인덱스에 접근하고, 뒤에 원소들을 한칸씩 앞으로 옮긴다.\n",
    "    - pop 메서드와는 다르게 단순히 값을 \n",
    "\n",
    "### pop과 del의 차이\n",
    "#### pop\n",
    "- pop은 기본적으로 list의 메서드이다.\n",
    "- 특정 인덱스에 있는 요소를 제거하고, 그 값을 반환한다.\n",
    "\n",
    "#### del\n",
    "- python의 내장함수이다.\n",
    "- 리스트 뿐 아니라, 특정 변수나 다양한 자료구조 객체를 제거하는데에도 사용된다.\n",
    "- 반환값이 없다.\n",
    "- python 예약어이기 때문에 변수나 함수명으로 사용 불가능"
   ]
  },
  {
   "cell_type": "code",
   "execution_count": 3,
   "metadata": {},
   "outputs": [
    {
     "name": "stdout",
     "output_type": "stream",
     "text": [
      "test_list.append() 이후:  [4, 2, 3, 1, 5]\n",
      "test_list.pop() 이후:  [4, 2, 3, 1]\n",
      "pop의 반환값:  5\n",
      "test_list.insert() 이후:  [4, 2, 11, 3, 1]\n",
      "del 이후:  [4, 2, 3, 1]\n"
     ]
    }
   ],
   "source": [
    "test_list = [4, 2, 3, 1]\n",
    "\n",
    "test_list.append(5)\n",
    "print(\"test_list.append() 이후: \", test_list)\n",
    "\n",
    "last_element = test_list.pop()\n",
    "print(\"test_list.pop() 이후: \", test_list)\n",
    "print(\"pop의 반환값: \", last_element)\n",
    "\n",
    "test_list.insert(2, 11)\n",
    "print(\"test_list.insert() 이후: \", test_list)\n",
    "\n",
    "del(test_list[2])\n",
    "print(\"del 이후: \", test_list)\n"
   ]
  },
  {
   "cell_type": "code",
   "execution_count": 4,
   "metadata": {},
   "outputs": [
    {
     "ename": "IndexError",
     "evalue": "list assignment index out of range",
     "output_type": "error",
     "traceback": [
      "\u001b[0;31m---------------------------------------------------------------------------\u001b[0m",
      "\u001b[0;31mIndexError\u001b[0m                                Traceback (most recent call last)",
      "Cell \u001b[0;32mIn[4], line 5\u001b[0m\n\u001b[1;32m      1\u001b[0m \u001b[38;5;124;03m\"\"\"\u001b[39;00m\n\u001b[1;32m      2\u001b[0m \u001b[38;5;124;03m번외로, 존재하지 않는 변수나 요소를 del할 경우, 에러 발생\u001b[39;00m\n\u001b[1;32m      3\u001b[0m \u001b[38;5;124;03m\"\"\"\u001b[39;00m\n\u001b[1;32m      4\u001b[0m test_list \u001b[38;5;241m=\u001b[39m [\u001b[38;5;241m1\u001b[39m,\u001b[38;5;241m2\u001b[39m,\u001b[38;5;241m3\u001b[39m]\n\u001b[0;32m----> 5\u001b[0m \u001b[38;5;28;01mdel\u001b[39;00m(\u001b[43mtest_list\u001b[49m\u001b[43m[\u001b[49m\u001b[38;5;241;43m10\u001b[39;49m\u001b[43m]\u001b[49m)\n",
      "\u001b[0;31mIndexError\u001b[0m: list assignment index out of range"
     ]
    }
   ],
   "source": [
    "\"\"\"\n",
    "번외로, 존재하지 않는 변수나 요소를 del할 경우, IndexError 발생\n",
    "\"\"\"\n",
    "test_list = [1,2,3]\n",
    "del(test_list[10])"
   ]
  },
  {
   "cell_type": "markdown",
   "metadata": {},
   "source": [
    "## 3강. 배열 - 정렬과 탐색\n",
    "\n",
    "### 파이썬에서의 정렬\n",
    "- sorted()\n",
    "\t- 내장함수, 새로운 리스트를 반환해줌\n",
    "- sort()\n",
    "\t- list의 메서드, 해당 리스트를 정렬해줌\n",
    "- 내림차순의 경우\n",
    "\t- reverse 인자를 `True`로 지정\n",
    "- 정렬의 기준을 변경\n",
    "\t- key 인자에 정렬 기준이 담긴 lambda 함수, 혹은 함수로 넣어준다.\n"
   ]
  },
  {
   "cell_type": "code",
   "execution_count": 6,
   "metadata": {},
   "outputs": [
    {
     "name": "stdout",
     "output_type": "stream",
     "text": [
      "정렬 이전의 test_list [5, 4, 3, 2, 1]\n",
      "test_list: [5, 4, 3, 2, 1]\n",
      "sorted_list: [1, 2, 3, 4, 5]\n",
      "===\n",
      "list.sort() 이후\n",
      "test_list: [1, 2, 3, 4, 5]\n"
     ]
    }
   ],
   "source": [
    "test_list = [5, 4, 3, 2, 1]\n",
    "print(\"정렬 이전의 test_list\", test_list)\n",
    "\n",
    "sorted_list = sorted(test_list)\n",
    "print(\"test_list:\", test_list)\n",
    "print(\"sorted_list:\", sorted_list)\n",
    "\n",
    "test_list.sort()\n",
    "print(\"===\\nlist.sort() 이후\")\n",
    "print(\"test_list:\", test_list)"
   ]
  },
  {
   "cell_type": "code",
   "execution_count": 8,
   "metadata": {},
   "outputs": [
    {
     "name": "stdout",
     "output_type": "stream",
     "text": [
      "====\n",
      "기존 info\n",
      " [{'name': '피카츄', 'level': 30}, {'name': '리자몽', 'level': 50}, {'name': '레쿠쟈', 'level': 77}]\n",
      "====\n",
      "레벨 순 정렬 후 info\n",
      " [{'name': '레쿠쟈', 'level': 77}, {'name': '리자몽', 'level': 50}, {'name': '피카츄', 'level': 30}]\n"
     ]
    }
   ],
   "source": [
    "info = [{\"name\": \"피카츄\", \"level\": 30}, {\"name\": \"리자몽\", \"level\": 50}, {\"name\": \"레쿠쟈\", \"level\" : 77}]\n",
    "\n",
    "print(\"====\\n기존 info\\n\", info)\n",
    "\n",
    "info.sort(key=lambda x: x[\"level\"], reverse=True)\n",
    "print(\"====\\n레벨 순 정렬 후 info\\n\", info)\n"
   ]
  },
  {
   "cell_type": "markdown",
   "metadata": {},
   "source": [
    "### 탐색\n",
    "#### 선형탐색\n",
    "- 리스트의 첫 번째 원소부터 차례대로 탐색\n",
    "- 최악의 경우, 모든 원소를 다 비교해야함\n",
    "- `from linear import linear_search` 메서드\n",
    "- 혹은 `index`, `find` 메서드\n",
    "#### 이분탐색\n",
    "- 가운데 원소를 비교하고, 작으면 왼쪽, 크면 오른쪽 범위를 탐색\n",
    "- 위 과정을 찾을때까지, 혹은 더이상의 탐색 범위가 없을때까지 반복\n",
    "- 이분탐색은 정렬된 경우에만 가능하다."
   ]
  },
  {
   "cell_type": "code",
   "execution_count": 10,
   "metadata": {},
   "outputs": [
    {
     "name": "stdout",
     "output_type": "stream",
     "text": [
      "index1: 3\n",
      "index2: -1\n"
     ]
    }
   ],
   "source": [
    "def binary_search(L, x):\n",
    "    mid = 0\n",
    "    left = 0\n",
    "    right = len(L) - 1\n",
    "    \n",
    "    while left <= right:\n",
    "        mid = (left + right) // 2\n",
    "        \n",
    "        if L[mid] < x:\n",
    "            left = mid + 1\n",
    "        elif L[mid] > x:\n",
    "            right = mid - 1\n",
    "        else:\n",
    "            return mid\n",
    "    \n",
    "    return -1\n",
    "\n",
    "test_list = [1, 4, 10, 13, 19]\n",
    "index1 = binary_search(test_list, 13)\n",
    "index2 = binary_search(test_list, 0)\n",
    "print(\"index1:\", index1)\n",
    "print(\"index2:\", index2)"
   ]
  },
  {
   "cell_type": "markdown",
   "metadata": {},
   "source": [
    "## 4강. 재귀 알고리즘 기초\n",
    "### 재귀함수\n",
    "- 하나의 함수에서 자기 자신을 다시 호출하여 작업을 수행하는 것\n",
    "\n",
    "- 모든 재귀알고리즘은 반복문으로도 구현 가능하다\n",
    "\n",
    "### Recursive vs Iterative\n",
    "- 둘 다 시간 복잡도는 같다.\n",
    "- 다만, 재귀의 경우, n이 커질 수록 함수 호출이 많아져, 효율은 떨어질 수 있다.\n",
    "- Recursive의 장점은, 사람 관점에서 코드가 간결해보이고 구현하기 쉽다는 점이다.\n",
    "\t- 좀 더 직관적이다."
   ]
  },
  {
   "cell_type": "code",
   "execution_count": 18,
   "metadata": {},
   "outputs": [
    {
     "name": "stdout",
     "output_type": "stream",
     "text": [
      "iterative 결과값:9227465, 소요시간:3.814697265625e-05\n",
      "recursive 결과값:9227465, 소요시간:1.097099781036377\n"
     ]
    }
   ],
   "source": [
    "\"\"\"\n",
    "피보나치 수열 예제\n",
    "\"\"\"\n",
    "\n",
    "def iterative(x):\n",
    "    if x <= 1:\n",
    "        return x\n",
    "    f0 = 0\n",
    "    f1 = 1\n",
    "    f2 = 1\n",
    "    \n",
    "    for _ in range(1, x):\n",
    "        f2 = f0 + f1\n",
    "        f0 = f1\n",
    "        f1 = f2\n",
    "\n",
    "    return f2\n",
    "\n",
    "def recursive(x):\n",
    "    if x <= 1:\n",
    "        return x\n",
    "    return recursive(x - 1) + recursive(x - 2)\n",
    "\n",
    "import time\n",
    "\n",
    "N = 35\n",
    "start = time.time()\n",
    "iter_result = iterative(N)\n",
    "end_time = time.time() - start\n",
    "print(f\"iterative 결과값:{iter_result}, 소요시간:{end_time}\")\n",
    "\n",
    "start = time.time()\n",
    "recursive_result = recursive(N)\n",
    "end_time = time.time() - start\n",
    "print(f\"recursive 결과값:{recursive_result}, 소요시간:{end_time}\")"
   ]
  }
 ],
 "metadata": {
  "kernelspec": {
   "display_name": "CryptoPilot",
   "language": "python",
   "name": "python3"
  },
  "language_info": {
   "codemirror_mode": {
    "name": "ipython",
    "version": 3
   },
   "file_extension": ".py",
   "mimetype": "text/x-python",
   "name": "python",
   "nbconvert_exporter": "python",
   "pygments_lexer": "ipython3",
   "version": "3.11.8"
  }
 },
 "nbformat": 4,
 "nbformat_minor": 2
}
