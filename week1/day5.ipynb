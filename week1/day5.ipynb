{
 "cells": [
  {
   "cell_type": "markdown",
   "metadata": {},
   "source": [
    "# Counter 알아보기\n",
    "\n",
    "- Counter는 collections 라이브러리에 속해있는 기본 클래스이다.\n",
    "- 리스트를 넣으면, 같은 원소를 세는 Hash Table이 주어진다."
   ]
  },
  {
   "cell_type": "code",
   "execution_count": 2,
   "metadata": {},
   "outputs": [
    {
     "name": "stdout",
     "output_type": "stream",
     "text": [
      "Counter({1: 3, 2: 2, 3: 1})\n"
     ]
    }
   ],
   "source": [
    "from collections import Counter\n",
    "\n",
    "test_list = [1, 1, 1, 2, 2, 3]\n",
    "counter = Counter(test_list)\n",
    "print(counter)"
   ]
  },
  {
   "cell_type": "markdown",
   "metadata": {},
   "source": [
    "`dict`나 `list`로도 변환이 가능하다.\n",
    "list의 경우에는 key에 해당되는 값들을 반환한다."
   ]
  },
  {
   "cell_type": "code",
   "execution_count": 3,
   "metadata": {},
   "outputs": [
    {
     "name": "stdout",
     "output_type": "stream",
     "text": [
      "_dict: {1: 3, 2: 2, 3: 1}\n",
      "_list: [1, 2, 3]\n"
     ]
    }
   ],
   "source": [
    "_dict = dict(counter)\n",
    "_list = list(counter)\n",
    "print(\"_dict:\", _dict)\n",
    "print(\"_list:\", _list)\n"
   ]
  },
  {
   "cell_type": "markdown",
   "metadata": {},
   "source": [
    "## 메서드"
   ]
  },
  {
   "cell_type": "code",
   "execution_count": 4,
   "metadata": {},
   "outputs": [
    {
     "name": "stdout",
     "output_type": "stream",
     "text": [
      "counter.values(): dict_values([2, 3, 1, 1])\n",
      "counter.items(): dict_items([('z', 2), ('k', 3), ('l', 1), ('p', 1)])\n",
      "counter.keys(): dict_keys(['z', 'k', 'l', 'p'])\n",
      "sorted(counter): ['k', 'l', 'p', 'z']\n"
     ]
    }
   ],
   "source": [
    "counter = Counter([\"z\", \"z\", \"k\", \"k\", \"k\", \"l\", \"p\"])\n",
    "\n",
    "print(\"counter.values():\", counter.values())\n",
    "print(\"counter.items():\", counter.items())\n",
    "print(\"counter.keys():\", counter.keys())\n",
    "print(\"sorted(counter):\", sorted(counter))"
   ]
  },
  {
   "cell_type": "markdown",
   "metadata": {},
   "source": [
    "## 그 외 연산\n",
    "- \\+ (Addition)\n",
    "    - 합집합, 각 key에 해당하는 value 또한 합쳐진다.\n",
    "- \\- (Subtraction)\n",
    "    - 차집합이나, 각 key에 해당하는 value 또한 빼진다. (단, 값이 음수가 되는경우, key는 삭제)\n",
    "- & (Intersections)\n",
    "    - 교집합, key 값에 대하여 작은 value 값을 택한다.\n",
    "- | (Union)\n",
    "    - 합집합, key 값에 대하여 큰 value 값을 택한다."
   ]
  },
  {
   "cell_type": "code",
   "execution_count": 9,
   "metadata": {},
   "outputs": [
    {
     "name": "stdout",
     "output_type": "stream",
     "text": [
      "t1: Counter({'l': 2, 'h': 1, 'e': 1, 'o': 1})\n",
      "t2: Counter({'l': 2, 'h': 2, 'o': 1, 'e': 1, 'r': 1})\n",
      "\n",
      "\n",
      "t1 + t2: Counter({'l': 4, 'h': 3, 'e': 2, 'o': 2, 'r': 1})\n",
      "t1 - t2: Counter()\n",
      "t2 - t1: Counter({'h': 1, 'r': 1})\n",
      "t1 & t2: Counter({'l': 2, 'h': 1, 'e': 1, 'o': 1})\n",
      "t1 | t2: Counter({'h': 2, 'l': 2, 'e': 1, 'o': 1, 'r': 1})\n"
     ]
    }
   ],
   "source": [
    "t1 = Counter(\"hello\")\n",
    "t2 = Counter(\"lohhler\")\n",
    "\n",
    "print(\"t1:\", t1)\n",
    "print(\"t2:\", t2, end=\"\\n\\n\\n\")\n",
    "\n",
    "print(\"t1 + t2:\", t1 + t2)\n",
    "print(\"t1 - t2:\", t1 - t2)\n",
    "print(\"t2 - t1:\", t2 - t1)\n",
    "print(\"t1 & t2:\", t1 & t2)\n",
    "print(\"t1 | t2:\", t1 | t2)"
   ]
  }
 ],
 "metadata": {
  "kernelspec": {
   "display_name": "CryptoPilot",
   "language": "python",
   "name": "python3"
  },
  "language_info": {
   "codemirror_mode": {
    "name": "ipython",
    "version": 3
   },
   "file_extension": ".py",
   "mimetype": "text/x-python",
   "name": "python",
   "nbconvert_exporter": "python",
   "pygments_lexer": "ipython3",
   "version": "3.11.8"
  }
 },
 "nbformat": 4,
 "nbformat_minor": 2
}
