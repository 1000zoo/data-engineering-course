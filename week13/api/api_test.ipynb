{
 "cells": [
  {
   "cell_type": "code",
   "execution_count": 26,
   "metadata": {},
   "outputs": [],
   "source": [
    "import requests\n",
    "from datetime import datetime, timezone\n",
    "import json\n",
    "from ___key___ import *"
   ]
  },
  {
   "cell_type": "markdown",
   "metadata": {},
   "source": [
    "# NewsAPI"
   ]
  },
  {
   "cell_type": "code",
   "execution_count": 2,
   "metadata": {},
   "outputs": [
    {
     "data": {
      "text/plain": [
       "'https://newsapi.org/v2/everything?q=k&from=dd&sortBy=publishedAt&apiKey=aaa'"
      ]
     },
     "execution_count": 2,
     "metadata": {},
     "output_type": "execute_result"
    }
   ],
   "source": [
    "url = \"https://newsapi.org/v2/everything?q={keyword}&from={date}&sortBy=publishedAt&apiKey={api_key}\""
   ]
  },
  {
   "cell_type": "code",
   "execution_count": 24,
   "metadata": {},
   "outputs": [
    {
     "name": "stdout",
     "output_type": "stream",
     "text": [
      "https://newsapi.org/v2/everything?q=tesla&from=2024-06-10&sortBy=publishedAt&apiKey=423c838b4bc34902a719d0bd41451446\n"
     ]
    }
   ],
   "source": [
    "# date = datetime.now(timezone.utc).strftime(\"%Y-%m-%d\")\n",
    "date = \"2024-06-10\"\n",
    "keyword = \"it\"\n",
    "\n",
    "api_url = url.format(keyword=keyword, date=date, api_key=APIKEY)\n",
    "print(api_url)"
   ]
  },
  {
   "cell_type": "code",
   "execution_count": 25,
   "metadata": {},
   "outputs": [
    {
     "name": "stdout",
     "output_type": "stream",
     "text": [
      "{\"status\":\"ok\",\"totalResults\":0,\"articles\":[]}\n"
     ]
    }
   ],
   "source": [
    "res = requests.get(api_url)\n",
    "print(res.text)"
   ]
  },
  {
   "cell_type": "markdown",
   "metadata": {},
   "source": [
    "# NAVER API\n",
    "## 검색어 트랜드 예제"
   ]
  },
  {
   "cell_type": "code",
   "execution_count": 51,
   "metadata": {},
   "outputs": [],
   "source": [
    "url = \"https://openapi.naver.com/v1/datalab/search\"\n",
    "\n",
    "body = {\n",
    "    \"startDate\": \"2024-05-01\",\n",
    "    \"endDate\": \"2024-05-31\",\n",
    "    \"timeUnit\": \"date\",\n",
    "    \"keywordGroups\": [\n",
    "        {\n",
    "            \"groupName\": \"한글\",\n",
    "            \"keywords\": [\"한글\", \"korean\"]\n",
    "        },\n",
    "        {\n",
    "            \"groupName\": \"영어\",\n",
    "            \"keywords\": [\"영어\", \"english\"]\n",
    "        }\n",
    "    ],\n",
    "    \"device\": \"pc\",\n",
    "    \"ages\": [\"1\", \"2\"],\n",
    "    \"gender\": \"f\"\n",
    "}\n",
    "headers = {\n",
    "    \"X-Naver-Client-Id\": client_id,\n",
    "    \"X-Naver-Client-Secret\": client_secret,\n",
    "    \"Content-Type\": \"application/json\"\n",
    "}\n",
    "\n",
    "res = requests.post(url, headers=headers, data=json.dumps(body, ensure_ascii=False).encode(\"utf-8\"))\n",
    "result_text = res.text"
   ]
  },
  {
   "cell_type": "code",
   "execution_count": 53,
   "metadata": {},
   "outputs": [
    {
     "name": "stdout",
     "output_type": "stream",
     "text": [
      "{'title': '한글', 'keywords': ['한글', 'korean'], 'data': [{'period': '2024-05-01', 'ratio': 35.38461}, {'period': '2024-05-02', 'ratio': 52.30769}, {'period': '2024-05-03', 'ratio': 29.23076}, {'period': '2024-05-04', 'ratio': 27.6923}, {'period': '2024-05-05', 'ratio': 47.6923}, {'period': '2024-05-06', 'ratio': 69.23076}, {'period': '2024-05-07', 'ratio': 55.38461}, {'period': '2024-05-08', 'ratio': 58.46153}, {'period': '2024-05-09', 'ratio': 80}, {'period': '2024-05-10', 'ratio': 80}, {'period': '2024-05-11', 'ratio': 50.76923}, {'period': '2024-05-12', 'ratio': 67.6923}, {'period': '2024-05-13', 'ratio': 69.23076}, {'period': '2024-05-14', 'ratio': 43.07692}, {'period': '2024-05-15', 'ratio': 87.6923}, {'period': '2024-05-16', 'ratio': 70.76923}, {'period': '2024-05-17', 'ratio': 58.46153}, {'period': '2024-05-18', 'ratio': 47.6923}, {'period': '2024-05-19', 'ratio': 81.53846}, {'period': '2024-05-20', 'ratio': 61.53846}, {'period': '2024-05-21', 'ratio': 53.84615}, {'period': '2024-05-22', 'ratio': 49.23076}, {'period': '2024-05-23', 'ratio': 61.53846}, {'period': '2024-05-24', 'ratio': 52.30769}, {'period': '2024-05-25', 'ratio': 63.07692}, {'period': '2024-05-26', 'ratio': 100}, {'period': '2024-05-27', 'ratio': 64.61538}, {'period': '2024-05-28', 'ratio': 64.61538}, {'period': '2024-05-29', 'ratio': 76.92307}, {'period': '2024-05-30', 'ratio': 60}, {'period': '2024-05-31', 'ratio': 70.76923}]}\n",
      "{'title': '영어', 'keywords': ['영어', 'english'], 'data': [{'period': '2024-05-01', 'ratio': 9.23076}, {'period': '2024-05-02', 'ratio': 9.23076}, {'period': '2024-05-03', 'ratio': 4.61538}, {'period': '2024-05-04', 'ratio': 4.61538}, {'period': '2024-05-05', 'ratio': 7.6923}, {'period': '2024-05-06', 'ratio': 6.15384}, {'period': '2024-05-07', 'ratio': 18.46153}, {'period': '2024-05-08', 'ratio': 10.76923}, {'period': '2024-05-09', 'ratio': 9.23076}, {'period': '2024-05-10', 'ratio': 12.30769}, {'period': '2024-05-11', 'ratio': 6.15384}, {'period': '2024-05-12', 'ratio': 10.76923}, {'period': '2024-05-13', 'ratio': 12.30769}, {'period': '2024-05-14', 'ratio': 13.84615}, {'period': '2024-05-15', 'ratio': 10.76923}, {'period': '2024-05-16', 'ratio': 16.92307}, {'period': '2024-05-17', 'ratio': 9.23076}, {'period': '2024-05-18', 'ratio': 9.23076}, {'period': '2024-05-19', 'ratio': 6.15384}, {'period': '2024-05-20', 'ratio': 13.84615}, {'period': '2024-05-21', 'ratio': 18.46153}, {'period': '2024-05-22', 'ratio': 13.84615}, {'period': '2024-05-23', 'ratio': 12.30769}, {'period': '2024-05-24', 'ratio': 10.76923}, {'period': '2024-05-25', 'ratio': 4.61538}, {'period': '2024-05-26', 'ratio': 20}, {'period': '2024-05-27', 'ratio': 24.61538}, {'period': '2024-05-28', 'ratio': 16.92307}, {'period': '2024-05-29', 'ratio': 15.38461}, {'period': '2024-05-30', 'ratio': 15.38461}, {'period': '2024-05-31', 'ratio': 7.6923}]}\n"
     ]
    }
   ],
   "source": [
    "\n",
    "result = json.loads(result_text)\n",
    "\n",
    "details = result[\"results\"]\n",
    "\n",
    "for detail in details:\n",
    "    print(detail)"
   ]
  },
  {
   "cell_type": "markdown",
   "metadata": {},
   "source": [
    "## 뉴스 검색 예제"
   ]
  },
  {
   "cell_type": "code",
   "execution_count": 55,
   "metadata": {},
   "outputs": [
    {
     "name": "stdout",
     "output_type": "stream",
     "text": [
      "{\n",
      "\t\"lastBuildDate\":\"Mon, 10 Jun 2024 11:10:02 +0900\",\n",
      "\t\"total\":5589235,\n",
      "\t\"start\":1,\n",
      "\t\"display\":10,\n",
      "\t\"items\":[\n",
      "\t\t{\n",
      "\t\t\t\"title\":\"IPA, ESG 상생 기금 제7기 펠로우 모집\",\n",
      "\t\t\t\"originallink\":\"https:\\/\\/www.businesskorea.co.kr\\/news\\/articleView.html?idxno=218729\",\n",
      "\t\t\t\"link\":\"https:\\/\\/www.businesskorea.co.kr\\/news\\/articleView.html?idxno=218729\",\n",
      "\t\t\t\"description\":\"분야(3개사) ▴<b>IT<\\/b>산업 분야(3개사) ▴기타 분야(3개사)이다. 7기 펠로우로 선정된 기업은 ▴기업당 최대 1천만 원의 사업개발비 ▴맞춤형 ESG 컨설팅 프로그램 등을 지원받을 수 있다. 비지니스코리아\",\n",
      "\t\t\t\"pubDate\":\"Mon, 10 Jun 2024 11:08:00 +0900\"\n",
      "\t\t},\n",
      "\t\t{\n",
      "\t\t\t\"title\":\"KT, 디지털인재 사관학교 '에이블스쿨 6기' 모집\",\n",
      "\t\t\t\"originallink\":\"http:\\/\\/www.nextdaily.co.kr\\/news\\/articleView.html?idxno=229130\",\n",
      "\t\t\t\"link\":\"http:\\/\\/www.nextdaily.co.kr\\/news\\/articleView.html?idxno=229130\",\n",
      "\t\t\t\"description\":\"또 경기 침체로 인한 취업난이 지속되는 상황에서도 전공과 출신 지역 불문 350여 개 기업에 채용돼 AI 개발 및 데이터 분석, <b>IT<\\/b> 운용은 물론 영업과 마케팅 등 다양한 직무 분야에서 디지털 전환을 주도하는 역할을... \",\n",
      "\t\t\t\"pubDate\":\"Mon, 10 Jun 2024 11:06:00 +0900\"\n",
      "\t\t},\n",
      "\t\t{\n",
      "\t\t\t\"title\":\"&quot;아이폰16 프로 카툭튀 더 심해진다&quot;\",\n",
      "\t\t\t\"originallink\":\"https:\\/\\/zdnet.co.kr\\/view\\/?no=20240610093108\",\n",
      "\t\t\t\"link\":\"https:\\/\\/n.news.naver.com\\/mnews\\/article\\/092\\/0002334197?sid=105\",\n",
      "\t\t\t\"description\":\"<b>IT<\\/b>매체 폰아레나는 8일(현지시간) 유명 <b>IT<\\/b> 팁스터 아이스유니버스(@UniverseIce)를 인용해 아이폰16 프로의 후면 카메라 모듈 이미지를 보도했다. 사진=아이스유니버스 엑스(@UniverseIce) 그는 이미지를 공개하며 ”... \",\n",
      "\t\t\t\"pubDate\":\"Mon, 10 Jun 2024 11:06:00 +0900\"\n",
      "\t\t},\n",
      "\t\t{\n",
      "\t\t\t\"title\":\"[543호] photo news | 韓·日·中 서울에 모이자 대만과 결속 강화 나선 美 ‘...\",\n",
      "\t\t\t\"originallink\":\"https:\\/\\/economychosun.com\\/site\\/data\\/html_dir\\/2024\\/05\\/31\\/2024053100019.html\",\n",
      "\t\t\t\"link\":\"https:\\/\\/economychosun.com\\/site\\/data\\/html_dir\\/2024\\/05\\/31\\/2024053100019.html\",\n",
      "\t\t\t\"description\":\"6월 초까지 머물며 대만 최대 정보기술(<b>IT<\\/b>) 행사 중 하나인 컴퓨텍스(사진 1, 지난해 사진)에서 기조연설 등 일정을 소화한다. 젠슨 황은 앞서 5월 25일 미국 캘리포니아주 오클랜드에서 열린 미국프로야구(MLB)... \",\n",
      "\t\t\t\"pubDate\":\"Mon, 10 Jun 2024 11:06:00 +0900\"\n",
      "\t\t},\n",
      "\t\t{\n",
      "\t\t\t\"title\":\"Debby Lee Cohen, Who Helped Prune Plastic From Schools, Dies at 64\",\n",
      "\t\t\t\"originallink\":\"https:\\/\\/www.nytimes.com\\/2024\\/06\\/09\\/education\\/debby-lee-cohen-dead.html?partner=naver\",\n",
      "\t\t\t\"link\":\"https:\\/\\/www.nytimes.com\\/2024\\/06\\/09\\/education\\/debby-lee-cohen-dead.html?partner=naver\",\n",
      "\t\t\t\"description\":\"<b>It<\\/b> was then that Ms. Cohen learned that school lunches were served on foam trays — and that... <b>It<\\/b> concludes, joyously, with the students rallying at City Hall and Ms. Cohen’s giant puppets... \",\n",
      "\t\t\t\"pubDate\":\"Mon, 10 Jun 2024 11:06:00 +0900\"\n",
      "\t\t},\n",
      "\t\t{\n",
      "\t\t\t\"title\":\"삼성전자, 북미서 2024년형 게이밍 모니터 ‘오디세이 OLED' 2종 공개\",\n",
      "\t\t\t\"originallink\":\"http:\\/\\/www.sentv.co.kr\\/news\\/view\\/687905\",\n",
      "\t\t\t\"link\":\"http:\\/\\/www.sentv.co.kr\\/news\\/view\\/687905\",\n",
      "\t\t\t\"description\":\"이번 행사에서는 북미 지역의 <b>IT<\\/b>·게임 분야 미디어와 크리에이터를 초청해 2024년형 모니터 게이밍·고해상도·스마트 모니터 신제품을 한 자리에서 체험할 수 있는 기회를 제공했다.2024년형 게이밍 모니터... \",\n",
      "\t\t\t\"pubDate\":\"Mon, 10 Jun 2024 11:06:00 +0900\"\n",
      "\t\t},\n",
      "\t\t{\n",
      "\t\t\t\"title\":\"농협은행 <b>IT<\\/b>부문, 복숭아농가 찾아 농촌 일손돕기 실시\",\n",
      "\t\t\t\"originallink\":\"https:\\/\\/www.dailysmart.co.kr\\/news\\/articleView.html?idxno=88454\",\n",
      "\t\t\t\"link\":\"https:\\/\\/www.dailysmart.co.kr\\/news\\/articleView.html?idxno=88454\",\n",
      "\t\t\t\"description\":\"NH농협은행 <b>IT<\\/b>부문 임직원, <b>IT<\\/b>사랑봉사단 20명은 지난 7일 경기도 여주시 소재 복숭아 농가에서 농촌 일손 돕기를 실시했다. 사진=농협은행.  NH농협은행 <b>IT<\\/b>부문 임직원, <b>IT<\\/b>사랑봉사단 20명은 지난 7일 경기도 여주시 소재... \",\n",
      "\t\t\t\"pubDate\":\"Mon, 10 Jun 2024 11:06:00 +0900\"\n",
      "\t\t},\n",
      "\t\t{\n",
      "\t\t\t\"title\":\"삼성전자, 북미 최대 게임쇼 '서머 게임 페스트'서 2024년형 게이밍 신제품 대...\",\n",
      "\t\t\t\"originallink\":\"http:\\/\\/www.nextdaily.co.kr\\/news\\/articleView.html?idxno=229105\",\n",
      "\t\t\t\"link\":\"http:\\/\\/www.nextdaily.co.kr\\/news\\/articleView.html?idxno=229105\",\n",
      "\t\t\t\"description\":\"이번 행사는 북미 지역의 <b>IT<\\/b> ·게임 분야 미디어와 크리에이터를 초청해 2024년형 모니터 게이밍·고해상도·스마트 모니터 신제품을 한 자리에서 체험할 수 있는 기회를 제공했다. 2024년형 게이밍 모니터... \",\n",
      "\t\t\t\"pubDate\":\"Mon, 10 Jun 2024 11:06:00 +0900\"\n",
      "\t\t},\n",
      "\t\t{\n",
      "\t\t\t\"title\":\"AI 열풍으로 성큼 다가온 전력 위기\",\n",
      "\t\t\t\"originallink\":\"https:\\/\\/economychosun.com\\/site\\/data\\/html_dir\\/2024\\/05\\/31\\/2024053100033.html\",\n",
      "\t\t\t\"link\":\"https:\\/\\/economychosun.com\\/site\\/data\\/html_dir\\/2024\\/05\\/31\\/2024053100033.html\",\n",
      "\t\t\t\"description\":\"데이터센터는 서버, 네트워크, 스토리지 등 <b>IT<\\/b> 서비스 제공에 필요한 장비를 한 건물 안에 모은 시설이어서 24시간 전력이 필요하다. 데이터센터 한 곳당 연간 전력 사용량은 평균 25 (기가와트)로 4인 가구 기준 6000가구... \",\n",
      "\t\t\t\"pubDate\":\"Mon, 10 Jun 2024 11:06:00 +0900\"\n",
      "\t\t},\n",
      "\t\t{\n",
      "\t\t\t\"title\":\"삼성전자, 북미 최대 게임쇼서 '오디세이 OLED G8' 신제품 선봬\",\n",
      "\t\t\t\"originallink\":\"https:\\/\\/www.delighti.co.kr\\/news\\/articleView.html?idxno=81737\",\n",
      "\t\t\t\"link\":\"https:\\/\\/www.delighti.co.kr\\/news\\/articleView.html?idxno=81737\",\n",
      "\t\t\t\"description\":\"이번 모니터 원런칭 행사는 북미 지역의 <b>IT<\\/b> ·게임 분야 미디어와 크리에이터를 초청해 2024년형 모니터 게이밍·고해상도·스마트 모니터 신제품을 한 자리에서 체험할 수 있는 기회를 제공했다. 2024년형... \",\n",
      "\t\t\t\"pubDate\":\"Mon, 10 Jun 2024 11:04:00 +0900\"\n",
      "\t\t}\n",
      "\t]\n",
      "}\n"
     ]
    }
   ],
   "source": [
    "url = \"https://openapi.naver.com/v1/search/news.json?query={keyword}&display={max_display}&sort=date\"\n",
    "\n",
    "keyword = \"IT\"\n",
    "max_display = 10\n",
    "\n",
    "url = url.format(keyword=keyword, max_display=max_display)\n",
    "\n",
    "headers = {\n",
    "    \"X-Naver-Client-Id\": client_id,\n",
    "    \"X-Naver-Client-Secret\": client_secret,\n",
    "    \"Content-Type\": \"application/json\"\n",
    "}\n",
    "\n",
    "res = requests.get(url, headers=headers, data=json.dumps(body, ensure_ascii=False).encode(\"utf-8\"))\n",
    "result_text = res.text\n",
    "print(result_text)"
   ]
  },
  {
   "cell_type": "code",
   "execution_count": null,
   "metadata": {},
   "outputs": [],
   "source": []
  }
 ],
 "metadata": {
  "kernelspec": {
   "display_name": "dev-course",
   "language": "python",
   "name": "python3"
  },
  "language_info": {
   "codemirror_mode": {
    "name": "ipython",
    "version": 3
   },
   "file_extension": ".py",
   "mimetype": "text/x-python",
   "name": "python",
   "nbconvert_exporter": "python",
   "pygments_lexer": "ipython3",
   "version": "3.10.14"
  }
 },
 "nbformat": 4,
 "nbformat_minor": 2
}
