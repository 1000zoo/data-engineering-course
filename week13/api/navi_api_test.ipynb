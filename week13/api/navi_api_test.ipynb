{
 "cells": [
  {
   "cell_type": "code",
   "execution_count": 7,
   "metadata": {},
   "outputs": [],
   "source": [
    "import requests\n",
    "import json\n",
    "\n",
    "from ___key___ import *"
   ]
  },
  {
   "cell_type": "code",
   "execution_count": 8,
   "metadata": {},
   "outputs": [
    {
     "name": "stdout",
     "output_type": "stream",
     "text": [
      "{'trans_id': '0190018004367dacb159958872e13a52', 'routes': [{'result_code': 0, 'result_msg': '길찾기 성공', 'summary': {'origin': {'name': '', 'x': 127.11015051307636, 'y': 37.394725518530834}, 'destination': {'name': '', 'x': 127.10823557165544, 'y': 37.401928707331656}, 'waypoints': [], 'priority': 'RECOMMEND', 'bound': {'min_x': 127.10833536148644, 'min_y': 37.39445954360996, 'max_x': 127.1098222529551, 'max_y': 37.40242724407785}, 'fare': {'taxi': 5400, 'toll': 0}, 'distance': 1033, 'duration': 380}, 'sections': [{'distance': 1033, 'duration': 380, 'bound': {'min_x': 127.10824109988312, 'min_y': 37.394469584427156, 'max_x': 127.10991634747967, 'max_y': 37.40242613861426}, 'roads': [{'name': '', 'distance': 22, 'duration': 5, 'traffic_speed': 16.0, 'traffic_state': 0, 'vertexes': [127.10991634747967, 37.39447145478345, 127.10966790676201, 37.394469584427156]}, {'name': '판교역로', 'distance': 883, 'duration': 286, 'traffic_speed': 6.0, 'traffic_state': 1, 'vertexes': [127.10966790676201, 37.394469584427156, 127.10967141980313, 37.39512739646385, 127.10968100356395, 37.396226781360426, 127.10967417816033, 37.39775855885587, 127.10968323318781, 37.39794785293074, 127.10967534594126, 37.39861458950405, 127.10967214334856, 37.399840028043634, 127.1096931266438, 37.40093048716485, 127.10967543155922, 37.40242613861426]}, {'name': '판교역로241번길', 'distance': 128, 'duration': 89, 'traffic_speed': 10.0, 'traffic_state': 2, 'vertexes': [127.10967543155922, 37.40242613861426, 127.10860261294675, 37.40240904474889, 127.10824109988312, 37.402415329497174]}], 'guides': [{'name': '출발지', 'x': 127.10991634747967, 'y': 37.39447145478345, 'distance': 0, 'duration': 0, 'type': 100, 'guidance': '출발지', 'road_index': 0}, {'name': '', 'x': 127.10966790676201, 'y': 37.394469584427156, 'distance': 22, 'duration': 5, 'type': 2, 'guidance': '우회전', 'road_index': 1}, {'name': '', 'x': 127.10967543155922, 'y': 37.40242613861426, 'distance': 883, 'duration': 286, 'type': 1, 'guidance': '좌회전', 'road_index': 2}, {'name': '목적지', 'x': 127.10824109988312, 'y': 37.402415329497174, 'distance': 128, 'duration': 89, 'type': 101, 'guidance': '목적지', 'road_index': -1}]}]}]}\n"
     ]
    }
   ],
   "source": [
    "url = \"https://apis-navi.kakaomobility.com/v1/directions\"\n",
    "params = {\n",
    "    \"origin\": \"127.11015314141542,37.39472714688412\",\n",
    "    \n",
    "    \"destination\": \"127.10824367964793,37.401937080111644\",\n",
    "    \"waypoints\": \"\",\n",
    "    \"priority\": \"RECOMMEND\",\n",
    "    \"car_fuel\": \"GASOLINE\",\n",
    "    \"car_hipass\": \"false\",\n",
    "    \"alternatives\": \"false\",\n",
    "    \"road_details\": \"false\"\n",
    "}\n",
    "\n",
    "headers = {\n",
    "    \"Authorization\": f\"KakaoAK {KAKAO_KEY}\"\n",
    "}\n",
    "\n",
    "res = requests.get(url, headers=headers, params=params)\n",
    "result_str = res.text\n",
    "results = json.loads(result_str)\n",
    "print(results)"
   ]
  },
  {
   "cell_type": "code",
   "execution_count": 17,
   "metadata": {},
   "outputs": [
    {
     "name": "stdout",
     "output_type": "stream",
     "text": [
      "origin {'name': '', 'x': 127.11015051307636, 'y': 37.394725518530834}\n",
      "destination {'name': '', 'x': 127.10823557165544, 'y': 37.401928707331656}\n",
      "waypoints []\n",
      "priority RECOMMEND\n",
      "bound {'min_x': 127.10833536148644, 'min_y': 37.39445954360996, 'max_x': 127.1098222529551, 'max_y': 37.40242724407785}\n",
      "fare {'taxi': 5400, 'toll': 0}\n",
      "distance 1033\n",
      "duration 380\n"
     ]
    }
   ],
   "source": [
    "summary = results[\"routes\"][0][\"summary\"]\n",
    "\n",
    "for key, val in summary.items():\n",
    "    print(key, val)"
   ]
  },
  {
   "cell_type": "code",
   "execution_count": 25,
   "metadata": {},
   "outputs": [
    {
     "name": "stdout",
     "output_type": "stream",
     "text": [
      "{'name': '', 'distance': 22, 'duration': 5, 'traffic_speed': 16.0, 'traffic_state': 0, 'vertexes': [127.10991634747967, 37.39447145478345, 127.10966790676201, 37.394469584427156]}\n",
      "{'name': '판교역로', 'distance': 883, 'duration': 286, 'traffic_speed': 6.0, 'traffic_state': 1, 'vertexes': [127.10966790676201, 37.394469584427156, 127.10967141980313, 37.39512739646385, 127.10968100356395, 37.396226781360426, 127.10967417816033, 37.39775855885587, 127.10968323318781, 37.39794785293074, 127.10967534594126, 37.39861458950405, 127.10967214334856, 37.399840028043634, 127.1096931266438, 37.40093048716485, 127.10967543155922, 37.40242613861426]}\n",
      "{'name': '판교역로241번길', 'distance': 128, 'duration': 89, 'traffic_speed': 10.0, 'traffic_state': 2, 'vertexes': [127.10967543155922, 37.40242613861426, 127.10860261294675, 37.40240904474889, 127.10824109988312, 37.402415329497174]}\n"
     ]
    }
   ],
   "source": [
    "sections = results[\"routes\"][0]['sections']\n",
    "roads = sections[0][\"roads\"]\n",
    "\n",
    "for road in roads:\n",
    "    print(road)"
   ]
  },
  {
   "cell_type": "code",
   "execution_count": null,
   "metadata": {},
   "outputs": [],
   "source": []
  }
 ],
 "metadata": {
  "kernelspec": {
   "display_name": "dev-course",
   "language": "python",
   "name": "python3"
  },
  "language_info": {
   "codemirror_mode": {
    "name": "ipython",
    "version": 3
   },
   "file_extension": ".py",
   "mimetype": "text/x-python",
   "name": "python",
   "nbconvert_exporter": "python",
   "pygments_lexer": "ipython3",
   "version": "3.1.undefined"
  }
 },
 "nbformat": 4,
 "nbformat_minor": 2
}
