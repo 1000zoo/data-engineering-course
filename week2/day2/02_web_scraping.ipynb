{
 "cells": [
  {
   "cell_type": "code",
   "execution_count": null,
   "metadata": {},
   "outputs": [],
   "source": [
    "### robots.txt 가져오기"
   ]
  },
  {
   "cell_type": "code",
   "execution_count": 4,
   "metadata": {},
   "outputs": [
    {
     "name": "stdout",
     "output_type": "stream",
     "text": [
      "User-agent: *\n",
      "Disallow: /\n",
      "Allow : /$ \n",
      "\n"
     ]
    }
   ],
   "source": [
    "import requests\n",
    "\n",
    "response = requests.get(\"https://naver.com/robots.txt\")\n",
    "print(response.text)"
   ]
  },
  {
   "cell_type": "code",
   "execution_count": 9,
   "metadata": {},
   "outputs": [
    {
     "name": "stdout",
     "output_type": "stream",
     "text": [
      "# robots.txt file for YouTube\n",
      "# Created in the distant future (the year 2000) after\n",
      "# the robotic uprising of the mid 90's which wiped out all humans.\n",
      "\n",
      "User-agent: Mediapartners-Google*\n",
      "Disallow:\n",
      "\n",
      "User-agent: *\n",
      "Disallow: /comment\n",
      "Disallow: /feeds/videos.xml\n",
      "Disallow: /get_video\n",
      "Disallow: /get_video_info\n",
      "Disallow: /get_midroll_info\n",
      "Disallow: /live_chat\n",
      "Disallow: /login\n",
      "Disallow: /qr\n",
      "Disallow: /results\n",
      "Disallow: /signup\n",
      "Disallow: /t/terms\n",
      "Disallow: /timedtext_video\n",
      "Disallow: /verify_age\n",
      "Disallow: /watch_ajax\n",
      "Disallow: /watch_fragments_ajax\n",
      "Disallow: /watch_popup\n",
      "Disallow: /watch_queue_ajax\n",
      "\n",
      "Sitemap: https://www.youtube.com/sitemaps/sitemap.xml\n",
      "Sitemap: https://www.youtube.com/product/sitemap.xml\n",
      "\n",
      "\n"
     ]
    }
   ],
   "source": [
    "response = requests.get(\"https://youtube.com/robots.txt\")\n",
    "print(response.text)"
   ]
  }
 ],
 "metadata": {
  "kernelspec": {
   "display_name": "CryptoPilot",
   "language": "python",
   "name": "python3"
  },
  "language_info": {
   "codemirror_mode": {
    "name": "ipython",
    "version": 3
   },
   "file_extension": ".py",
   "mimetype": "text/x-python",
   "name": "python",
   "nbconvert_exporter": "python",
   "pygments_lexer": "ipython3",
   "version": "3.11.8"
  }
 },
 "nbformat": 4,
 "nbformat_minor": 2
}
