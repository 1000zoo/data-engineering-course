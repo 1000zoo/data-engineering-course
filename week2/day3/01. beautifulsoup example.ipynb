{
 "cells": [
  {
   "cell_type": "markdown",
   "metadata": {},
   "source": [
    "# BeautifulSoup 라이브러리\n",
    "- requests 모듈을 이용하여 HTTP 요청을 보내고 응답을 받을 수 있다.\n",
    "- 하지만 불필요한 요소들 또한 받기 때문에, 원하는 요소만 받고 싶다.\n",
    "- 그래서 HTML Parser를 사용할 필요가 있다."
   ]
  },
  {
   "cell_type": "code",
   "execution_count": 1,
   "metadata": {},
   "outputs": [
    {
     "name": "stdout",
     "output_type": "stream",
     "text": [
      "Collecting beautifulsoup4\n",
      "  Downloading beautifulsoup4-4.12.3-py3-none-any.whl.metadata (3.8 kB)\n",
      "Collecting soupsieve>1.2 (from beautifulsoup4)\n",
      "  Downloading soupsieve-2.5-py3-none-any.whl.metadata (4.7 kB)\n",
      "Downloading beautifulsoup4-4.12.3-py3-none-any.whl (147 kB)\n",
      "\u001b[2K   \u001b[90m━━━━━━━━━━━━━━━━━━━━━━━━━━━━━━━━━━━━━━━━\u001b[0m \u001b[32m147.9/147.9 kB\u001b[0m \u001b[31m7.8 MB/s\u001b[0m eta \u001b[36m0:00:00\u001b[0m\n",
      "\u001b[?25hDownloading soupsieve-2.5-py3-none-any.whl (36 kB)\n",
      "Installing collected packages: soupsieve, beautifulsoup4\n",
      "Successfully installed beautifulsoup4-4.12.3 soupsieve-2.5\n",
      "Note: you may need to restart the kernel to use updated packages.\n"
     ]
    }
   ],
   "source": [
    "# 설치\n",
    "%pip install beautifulsoup4"
   ]
  },
  {
   "cell_type": "markdown",
   "metadata": {},
   "source": [
    "# BeautifulSoup 객체 만들기"
   ]
  },
  {
   "cell_type": "code",
   "execution_count": 3,
   "metadata": {},
   "outputs": [
    {
     "data": {
      "text/plain": [
       "<Response [200]>"
      ]
     },
     "execution_count": 3,
     "metadata": {},
     "output_type": "execute_result"
    }
   ],
   "source": [
    "import requests\n",
    "\n",
    "res = requests.get(\"https://www.example.com\")\n",
    "res"
   ]
  },
  {
   "cell_type": "markdown",
   "metadata": {},
   "source": [
    "### 선언\n",
    "- 분석을 할 문서 (str)과, 해당 문서가 어떤 언어로 이루어져있는 지(str) 적어야한다.\n",
    "    - html의 경우, html.parser"
   ]
  },
  {
   "cell_type": "code",
   "execution_count": 8,
   "metadata": {},
   "outputs": [],
   "source": [
    "# bs4 불러오기\n",
    "\n",
    "from bs4 import BeautifulSoup\n",
    "\n",
    "bs = BeautifulSoup(res.text, features=\"html.parser\")"
   ]
  },
  {
   "cell_type": "markdown",
   "metadata": {},
   "source": [
    "### 메서드 및 속성\n",
    "print(bs.prettify())\n",
    "- prettify()\n",
    "    - 문서를 깔끔하게 정리해준다.\n",
    "- find(\"태그\")\n",
    "    - 태그를 찾아준다.\n",
    "    - 여러개일 경우, 맨 처음 하나를 반환한다.\n",
    "- find_all(\"태그\")\n",
    "    - 해당 태그를 모두 찾아 리스트로 반환한다.\n",
    "- title, head, body\n",
    "    - 각각 문서의 title, head, body를 불러온다."
   ]
  },
  {
   "cell_type": "code",
   "execution_count": 14,
   "metadata": {},
   "outputs": [
    {
     "data": {
      "text/plain": [
       "<title>Example Domain</title>"
      ]
     },
     "execution_count": 14,
     "metadata": {},
     "output_type": "execute_result"
    }
   ],
   "source": [
    "## head 불러오기\n",
    "bs.title"
   ]
  },
  {
   "cell_type": "code",
   "execution_count": 15,
   "metadata": {},
   "outputs": [
    {
     "data": {
      "text/plain": [
       "<head>\n",
       "<title>Example Domain</title>\n",
       "<meta charset=\"utf-8\"/>\n",
       "<meta content=\"text/html; charset=utf-8\" http-equiv=\"Content-type\"/>\n",
       "<meta content=\"width=device-width, initial-scale=1\" name=\"viewport\"/>\n",
       "<style type=\"text/css\">\n",
       "    body {\n",
       "        background-color: #f0f0f2;\n",
       "        margin: 0;\n",
       "        padding: 0;\n",
       "        font-family: -apple-system, system-ui, BlinkMacSystemFont, \"Segoe UI\", \"Open Sans\", \"Helvetica Neue\", Helvetica, Arial, sans-serif;\n",
       "        \n",
       "    }\n",
       "    div {\n",
       "        width: 600px;\n",
       "        margin: 5em auto;\n",
       "        padding: 2em;\n",
       "        background-color: #fdfdff;\n",
       "        border-radius: 0.5em;\n",
       "        box-shadow: 2px 3px 7px 2px rgba(0,0,0,0.02);\n",
       "    }\n",
       "    a:link, a:visited {\n",
       "        color: #38488f;\n",
       "        text-decoration: none;\n",
       "    }\n",
       "    @media (max-width: 700px) {\n",
       "        div {\n",
       "            margin: 0 auto;\n",
       "            width: auto;\n",
       "        }\n",
       "    }\n",
       "    </style>\n",
       "</head>"
      ]
     },
     "execution_count": 15,
     "metadata": {},
     "output_type": "execute_result"
    }
   ],
   "source": [
    "## head 불러오기\n",
    "bs.head"
   ]
  },
  {
   "cell_type": "code",
   "execution_count": 16,
   "metadata": {},
   "outputs": [
    {
     "data": {
      "text/plain": [
       "<body>\n",
       "<div>\n",
       "<h1>Example Domain</h1>\n",
       "<p>This domain is for use in illustrative examples in documents. You may use this\n",
       "    domain in literature without prior coordination or asking for permission.</p>\n",
       "<p><a href=\"https://www.iana.org/domains/example\">More information...</a></p>\n",
       "</div>\n",
       "</body>"
      ]
     },
     "execution_count": 16,
     "metadata": {},
     "output_type": "execute_result"
    }
   ],
   "source": [
    "\n",
    "## body 불러오기\n",
    "bs.body"
   ]
  },
  {
   "cell_type": "code",
   "execution_count": 25,
   "metadata": {},
   "outputs": [
    {
     "name": "stdout",
     "output_type": "stream",
     "text": [
      "<h1>Example Domain</h1>\n",
      "h1\n"
     ]
    }
   ],
   "source": [
    "h1 = bs.find(\"h1\")\n",
    "print(h1)\n",
    "print(h1.name)"
   ]
  },
  {
   "cell_type": "code",
   "execution_count": 27,
   "metadata": {},
   "outputs": [
    {
     "name": "stdout",
     "output_type": "stream",
     "text": [
      "[<p>This domain is for use in illustrative examples in documents. You may use this\n",
      "    domain in literature without prior coordination or asking for permission.</p>, <p><a href=\"https://www.iana.org/domains/example\">More information...</a></p>]\n"
     ]
    }
   ],
   "source": [
    "p = bs.find_all(\"p\")\n",
    "print(p)"
   ]
  },
  {
   "cell_type": "code",
   "execution_count": 29,
   "metadata": {},
   "outputs": [
    {
     "name": "stdout",
     "output_type": "stream",
     "text": [
      "<p>This domain is for use in illustrative examples in documents. You may use this\n",
      "    domain in literature without prior coordination or asking for permission.</p>\n"
     ]
    }
   ],
   "source": [
    "pp = bs.find(\"p\")\n",
    "print(pp)"
   ]
  }
 ],
 "metadata": {
  "kernelspec": {
   "display_name": "CryptoPilot",
   "language": "python",
   "name": "python3"
  },
  "language_info": {
   "codemirror_mode": {
    "name": "ipython",
    "version": 3
   },
   "file_extension": ".py",
   "mimetype": "text/x-python",
   "name": "python",
   "nbconvert_exporter": "python",
   "pygments_lexer": "ipython3",
   "version": "3.11.8"
  }
 },
 "nbformat": 4,
 "nbformat_minor": 2
}
