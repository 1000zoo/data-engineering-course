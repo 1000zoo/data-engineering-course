{
 "cells": [
  {
   "cell_type": "markdown",
   "metadata": {},
   "source": [
    "# Locator 이용하기\n",
    "- 태그의 `id`와 `class`를 이용하여 불러오기\n",
    "\n",
    "# 예제\n",
    "[사이트](https://programmers.co.kr/pages/data_engineering)에서 원하는 요소 불러오기"
   ]
  },
  {
   "cell_type": "code",
   "execution_count": 1,
   "metadata": {},
   "outputs": [],
   "source": [
    "# 라이브러리 불러오기\n",
    "import requests\n",
    "from bs4 import BeautifulSoup as BS"
   ]
  },
  {
   "cell_type": "code",
   "execution_count": 3,
   "metadata": {},
   "outputs": [],
   "source": [
    "res = requests.get(\"https://programmers.co.kr/pages/data_engineering\")\n",
    "bs = BS(res.text, \"html.parser\")"
   ]
  },
  {
   "cell_type": "markdown",
   "metadata": {},
   "source": [
    "### id를 이용하지 않고 요소 불러오기\n",
    "- `div`태그는 주로 많이 사용되므로, id 없이 찾기 어렵다."
   ]
  },
  {
   "cell_type": "code",
   "execution_count": 7,
   "metadata": {},
   "outputs": [],
   "source": [
    "## id를 이용하지 않고 요소 불러오기\n",
    "# bs.find(\"div\") # 출력물 생략"
   ]
  },
  {
   "cell_type": "markdown",
   "metadata": {},
   "source": [
    "### id를 이용하여 요소 불러오기"
   ]
  },
  {
   "cell_type": "code",
   "execution_count": 8,
   "metadata": {},
   "outputs": [
    {
     "data": {
      "text/plain": [
       "<div id=\"results\">\n",
       "<table><tbody><tr><td><div><a href=\"/web/20210116182000/http://example.python-scraping.com/places/default/view/Afghanistan-1\"><img src=\"/web/20210116182000im_/http://example.python-scraping.com/places/static/images/flags/af.png\"/> Afghanistan</a></div></td><td><div><a href=\"/web/20210116182000/http://example.python-scraping.com/places/default/view/Aland-Islands-2\"><img src=\"/web/20210116182000im_/http://example.python-scraping.com/places/static/images/flags/ax.png\"/> Aland Islands</a></div></td></tr><tr><td><div><a href=\"/web/20210116182000/http://example.python-scraping.com/places/default/view/Albania-3\"><img src=\"/web/20210116182000im_/http://example.python-scraping.com/places/static/images/flags/al.png\"/> Albania</a></div></td><td><div><a href=\"/web/20210116182000/http://example.python-scraping.com/places/default/view/Algeria-4\"><img src=\"/web/20210116182000im_/http://example.python-scraping.com/places/static/images/flags/dz.png\"/> Algeria</a></div></td></tr><tr><td><div><a href=\"/web/20210116182000/http://example.python-scraping.com/places/default/view/American-Samoa-5\"><img src=\"/web/20210116182000im_/http://example.python-scraping.com/places/static/images/flags/as.png\"/> American Samoa</a></div></td><td><div><a href=\"/web/20210116182000/http://example.python-scraping.com/places/default/view/Andorra-6\"><img src=\"/web/20210116182000im_/http://example.python-scraping.com/places/static/images/flags/ad.png\"/> Andorra</a></div></td></tr><tr><td><div><a href=\"/web/20210116182000/http://example.python-scraping.com/places/default/view/Angola-7\"><img src=\"/web/20210116182000im_/http://example.python-scraping.com/places/static/images/flags/ao.png\"/> Angola</a></div></td><td><div><a href=\"/web/20210116182000/http://example.python-scraping.com/places/default/view/Anguilla-8\"><img src=\"/web/20210116182000im_/http://example.python-scraping.com/places/static/images/flags/ai.png\"/> Anguilla</a></div></td></tr><tr><td><div><a href=\"/web/20210116182000/http://example.python-scraping.com/places/default/view/Antarctica-9\"><img src=\"/web/20210116182000im_/http://example.python-scraping.com/places/static/images/flags/aq.png\"/> Antarctica</a></div></td><td><div><a href=\"/web/20210116182000/http://example.python-scraping.com/places/default/view/Antigua-and-Barbuda-10\"><img src=\"/web/20210116182000im_/http://example.python-scraping.com/places/static/images/flags/ag.png\"/> Antigua and Barbuda</a></div></td></tr></tbody></table>\n",
       "</div>"
      ]
     },
     "execution_count": 8,
     "metadata": {},
     "output_type": "execute_result"
    }
   ],
   "source": [
    "bs.find(\"div\", id=\"results\")"
   ]
  },
  {
   "cell_type": "markdown",
   "metadata": {},
   "source": [
    "### `class`를 이용하여 요소 가져오기\n",
    "- class는 요소를 구분짓는 별명\n",
    "- 해당 태그 혹은 여러개를 쉽게 가져올 수 있다."
   ]
  },
  {
   "cell_type": "code",
   "execution_count": 11,
   "metadata": {},
   "outputs": [
    {
     "data": {
      "text/plain": [
       "'\\r\\n                    Example web scraping website\\r\\n                    \\n'"
      ]
     },
     "execution_count": 11,
     "metadata": {},
     "output_type": "execute_result"
    }
   ],
   "source": [
    "result = bs.find(\"div\", \"page-header\")\n",
    "result.h1.text.strip()\n"
   ]
  },
  {
   "cell_type": "code",
   "execution_count": null,
   "metadata": {},
   "outputs": [],
   "source": []
  }
 ],
 "metadata": {
  "kernelspec": {
   "display_name": "CryptoPilot",
   "language": "python",
   "name": "python3"
  },
  "language_info": {
   "codemirror_mode": {
    "name": "ipython",
    "version": 3
   },
   "file_extension": ".py",
   "mimetype": "text/x-python",
   "name": "python",
   "nbconvert_exporter": "python",
   "pygments_lexer": "ipython3",
   "version": "3.11.8"
  }
 },
 "nbformat": 4,
 "nbformat_minor": 2
}
