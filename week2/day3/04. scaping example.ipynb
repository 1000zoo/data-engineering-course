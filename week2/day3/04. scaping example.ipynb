{
 "cells": [
  {
   "cell_type": "markdown",
   "metadata": {},
   "source": [
    "# Scraping 예제 2\n",
    "[사이트](https://qna.programmers.co.kr/)에서 질문 내용을 스크래핑하기"
   ]
  },
  {
   "cell_type": "code",
   "execution_count": 1,
   "metadata": {},
   "outputs": [],
   "source": [
    "import requests\n",
    "from bs4 import BeautifulSoup as BS"
   ]
  },
  {
   "cell_type": "markdown",
   "metadata": {},
   "source": [
    "## User Agent\n",
    "- 서버측에 누가 요청을 보내는 지 명시"
   ]
  },
  {
   "cell_type": "code",
   "execution_count": 9,
   "metadata": {},
   "outputs": [],
   "source": [
    "user_agent = {\"User-Agent\": \"Mozilla/5.0 (Macintosh; Intel Mac OS X 10_15_4) AppleWebKit/537.36 (KHTML, like Gecko) Chrome/83.0.4103.97 Safari/537.36\"}\n",
    "res = requests.get(\"https://hashcode.co.kr\", user_agent)\n",
    "bs = BS(res.text, \"html.parser\")"
   ]
  },
  {
   "cell_type": "code",
   "execution_count": 15,
   "metadata": {},
   "outputs": [
    {
     "name": "stdout",
     "output_type": "stream",
     "text": [
      "text에니메이션 효과를 영상처럼 표현하고 싶어요!!!\n",
      "[플러터] 다른 사람의 작업물 실행하니 빈화면이 뜹니다.\n",
      "백엔드 개발자로 1년간 취준했던 신입입니다. IT 쪽 개발 전망에 대해 몇가지 궁금한 점이 있습니다.\n",
      "욜로와 텐서플로우\n",
      "파이썬 확장파일을 만든후 열려고 하면 순식간에 열린듯 하다가 사라져버립니다.\n",
      "certbot으로 받은 인증서로 ssl 접속이 안됩니다\n",
      "파이썬 초보입니다. 5×5로 입력을 받아서 가장 긴 막대기의 길이를 출력하는 코드\n",
      "링버퍼 내 & 연산자를 모르겠습니다.\n",
      "next js 와 express 연동 질문\n",
      "c언어 연산자 우선순위 질문\n",
      "가져오기를 못 하겠습니다\n",
      "cafe24 CSS 로그인버튼 가운데정렬 질문드립니다.\n",
      "크롤링 오류 (사진을 다운을 못받아요)\n",
      "Warning : Undefined array key \"\" in /hosting/myh/html/usersconsole.php on line 43\n",
      "php sql 문 회원관리\n",
      "자바 클래스 추가만으로 객체 생성하기\n",
      "Rapipay Login\n",
      "xcode로 c언어 파일 생성및 작성하고 싶은데 뭐가 문제인지 모르겠네요\n",
      "OLS 모델 계수 역변환 방법\n",
      "도움 부탁드립니다\n",
      "java while문 사용 후 반복시 글자 밀림\n",
      "Random number wheel\n",
      "[Vue.js] JSON 파싱 시 같은 포맷으로 2건 응답 받는데 하나만 정상적으로 받는 경우\n",
      "파이썬의 데이터 액세스 시간을 줄이지 않는 방법을 알고 싶습니다\n",
      "EC2 로드 밸런서 HTTPS 트래픽 처리불능에 대해 질문합니다.\n",
      "Escorts in Hyderabad\n",
      "Picnob\n",
      "puppeteer 로그인 세션 유지 관련 질문입니다\n",
      "지도 롱탭 기능\n",
      "어떤 부분에서 오류가 발생했는지 모르겠습니다.\n",
      "python ax.bar3d 그래프의 축 값과 축 위치가 어긋남\n",
      "백준허브 연동 에러 해결방법\n",
      "음성 감정 인식 api\n",
      "gulp + scss 사용시 sourcemaps 설정\n",
      "모두의 코드 사이트 저만 안 들어가지나요..\n",
      "타입스크립트 데코레이터 에러가 나요\n",
      "yum 없이 yum 패키지 다운받는 방법. 설치 없이. \n",
      "전문가의 통찰력으로 예상치 못한 Python 목록 문제 탐색\n",
      "c++에서 포인터와 배열 파트 질문\n",
      "Python ai 관련 모듈 중 API 형태로 간단하게 가져올만한 AI 모듈이 있을까요?\n",
      "{\"message\": \"엔드포인트 요청 시간이 초과되었습니다\"} 이게 뭐죠?\n",
      "python 기초 질문 1 (A+B)\n",
      "자료구조와 알고리즘 관련 학습 질문\n",
      "PCCP 기출문제] 1번 / 붕대 감기\n",
      "verbose 옵션 구현하는 방법\n",
      "C++ if else 문에서 계속 오류가 납니다\n",
      "오류 원인 문의\n",
      "실제 시장에 내놓을 상품을 만드는 프로젝트를 진행하려 하는데, 어떤 언어와 플랫폼들을 사용하는게 좋을지 고민입니다.\n",
      "코딩 테스트 방향키 적용 안되는게 맞나요?\n",
      "코딩 테스트 언어 설정\n"
     ]
    }
   ],
   "source": [
    "question_list_items = bs.find_all(\"li\", \"question-list-item\")\n",
    "titles = []\n",
    "for question in question_list_items:\n",
    "    titles.append(question.find(\"div\", \"question\").find(\"div\", \"top\").h4.text)\n",
    "\n",
    "print(\"\\n\".join(titles))"
   ]
  },
  {
   "cell_type": "markdown",
   "metadata": {},
   "source": [
    "## Pagenation\n",
    "- 수많은 목록을 표현하는 하나의 방법\n",
    "- 많은 정보를 인덱스로 표현\n",
    "\n",
    "![image.png](img/pagenation_example.png)\n"
   ]
  },
  {
   "cell_type": "code",
   "execution_count": 18,
   "metadata": {},
   "outputs": [
    {
     "name": "stdout",
     "output_type": "stream",
     "text": [
      "page 260\n",
      "[]\n",
      "page 261\n",
      "[]\n",
      "page 262\n",
      "[]\n",
      "page 263\n",
      "[]\n",
      "page 264\n",
      "[]\n",
      "page 265\n",
      "[]\n",
      "page 266\n",
      "[]\n",
      "page 267\n",
      "[]\n",
      "page 268\n",
      "[]\n"
     ]
    },
    {
     "ename": "KeyboardInterrupt",
     "evalue": "",
     "output_type": "error",
     "traceback": [
      "\u001b[0;31m---------------------------------------------------------------------------\u001b[0m",
      "\u001b[0;31mKeyboardInterrupt\u001b[0m                         Traceback (most recent call last)",
      "Cell \u001b[0;32mIn[18], line 13\u001b[0m\n\u001b[1;32m     11\u001b[0m \u001b[38;5;28mprint\u001b[39m(\u001b[38;5;124m\"\u001b[39m\u001b[38;5;124mpage\u001b[39m\u001b[38;5;124m\"\u001b[39m, i)\n\u001b[1;32m     12\u001b[0m \u001b[38;5;28mprint\u001b[39m(titles)\n\u001b[0;32m---> 13\u001b[0m time\u001b[38;5;241m.\u001b[39msleep(\u001b[38;5;241m0.5\u001b[39m)\n",
      "\u001b[0;31mKeyboardInterrupt\u001b[0m: "
     ]
    }
   ],
   "source": [
    "import time\n",
    "\n",
    "for i in range(1, 4):\n",
    "    res = requests.get(f\"https://hashcode.co.kr/?page={i}\", user_agent)\n",
    "    bs = BS(res.text, \"html.parser\")\n",
    "    question_list_items = bs.find_all(\"li\", \"question-list-item\")\n",
    "    titles = []\n",
    "    for question in question_list_items:\n",
    "        titles.append(question.find(\"div\", \"question\").find(\"div\", \"top\").h4.text)\n",
    "    \n",
    "    print(\"page\", i)\n",
    "    print(titles)\n",
    "    time.sleep(0.5)\n",
    "\n",
    "    "
   ]
  },
  {
   "cell_type": "code",
   "execution_count": null,
   "metadata": {},
   "outputs": [],
   "source": []
  },
  {
   "cell_type": "code",
   "execution_count": null,
   "metadata": {},
   "outputs": [],
   "source": []
  }
 ],
 "metadata": {
  "kernelspec": {
   "display_name": "CryptoPilot",
   "language": "python",
   "name": "python3"
  },
  "language_info": {
   "codemirror_mode": {
    "name": "ipython",
    "version": 3
   },
   "file_extension": ".py",
   "mimetype": "text/x-python",
   "name": "python",
   "nbconvert_exporter": "python",
   "pygments_lexer": "ipython3",
   "version": "3.11.8"
  }
 },
 "nbformat": 4,
 "nbformat_minor": 2
}
