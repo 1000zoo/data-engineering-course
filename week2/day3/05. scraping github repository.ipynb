{
 "cells": [
  {
   "cell_type": "markdown",
   "metadata": {},
   "source": [
    "# github repository 제목 불러오기\n",
    "## 개요\n",
    "[github](https://github.com/1000zoo?page=1&tab=repositories)\n",
    "깃헙 리포 목록을 불러와보자\n",
    "\n",
    "## HTML 분석하기\n",
    "![image.png](img/image.png)\n",
    "개발자 도구를 통해 repository 위치를 확인해보면, `div` 태그의 아이디가 `user-repositories-list` 인 것을 확인할 수 있다.\n",
    "그리고 그 내부의 `ul` 태그 안에 `li`태그로 각각의 레포들이 있는 것을 확인할 수 있다.\n",
    "또한 `h3` 태그를 보면, class 이름이 `wb-break-all`인데, 모든 리포지토리 이름이 해당 태그로 감싸져있었다.\n",
    "따라서, 해당 태그로 검색하면 수월할 것 같았다."
   ]
  },
  {
   "cell_type": "code",
   "execution_count": 1,
   "metadata": {},
   "outputs": [],
   "source": [
    "## 직접 \n",
    "import requests\n",
    "from bs4 import BeautifulSoup as BS\n",
    "user_agent = {\"User-Agent\":\"Mozilla/5.0 (Macintosh; Intel Mac OS X 10_15_7) AppleWebKit/537.36 (KHTML, like Gecko) Chrome/123.0.0.0 Safari/537.36\"}"
   ]
  },
  {
   "cell_type": "markdown",
   "metadata": {},
   "source": [
    "## 단일 페이지 불러오기"
   ]
  },
  {
   "cell_type": "code",
   "execution_count": 17,
   "metadata": {},
   "outputs": [
    {
     "data": {
      "text/plain": [
       "['data-engineering-course',\n",
       " 'python-programmers',\n",
       " 'kr-eng-typo-fix',\n",
       " 'autotft',\n",
       " 'CryptoPilot',\n",
       " 'ccat',\n",
       " 'programmers',\n",
       " 'lesion-overlap',\n",
       " 'chess',\n",
       " 'woowa-precourse',\n",
       " 'boj',\n",
       " 'smartmirror-application',\n",
       " 'java-algorithm',\n",
       " 'java-oncall-6-1000zoo',\n",
       " 'java-pairmatching-precourse',\n",
       " 'java-menu',\n",
       " 'java-subway-path-precourse',\n",
       " 'java-leetcode',\n",
       " 'spring-boot-jpa-01',\n",
       " 'java-christmas-6-1000zoo',\n",
       " 'java-lotto-6',\n",
       " 'junit-study',\n",
       " 'java-racingcar-6',\n",
       " 'java-baseball-6',\n",
       " 'java-extra-practice',\n",
       " 'java-lotto',\n",
       " 'coding-interview-practice',\n",
       " 'java-baseball',\n",
       " 'spring-basic',\n",
       " 'java-onboarding']"
      ]
     },
     "execution_count": 17,
     "metadata": {},
     "output_type": "execute_result"
    }
   ],
   "source": [
    "## parser 함수\n",
    "\n",
    "def parse(text):\n",
    "    bs = BS(text, \"html.parser\")\n",
    "    repo_list = bs.find_all(\"h3\", \"wb-break-all\")\n",
    "    return [repo.a.text.strip() for repo in repo_list]\n",
    "    \n",
    "\n",
    "res = requests.get(\"https://github.com/1000zoo?page=1&tab=repositories\", user_agent)\n",
    "parse(res.text)\n",
    "    "
   ]
  },
  {
   "cell_type": "markdown",
   "metadata": {},
   "source": [
    "## 여러 페이지 불러오기\n",
    "목록이 많을 시에는 페이지가 넘어가게 되는데, 리포지토리 URL을 보면\n",
    "\n",
    "`https://github.com/1000zoo?page=1&tab=repositories` \n",
    "\n",
    "`page=`로  pagenation 되어있는 것을 볼 수 있다.\n",
    "\n",
    "이를 활용하면 모든 리포지토리의 이름 (혹은 링크)를 불러올 수 있다."
   ]
  },
  {
   "cell_type": "code",
   "execution_count": 19,
   "metadata": {},
   "outputs": [
    {
     "data": {
      "text/plain": [
       "['data-engineering-course',\n",
       " 'python-programmers',\n",
       " 'kr-eng-typo-fix',\n",
       " 'autotft',\n",
       " 'CryptoPilot',\n",
       " 'ccat',\n",
       " 'programmers',\n",
       " 'lesion-overlap',\n",
       " 'chess',\n",
       " 'woowa-precourse',\n",
       " 'boj',\n",
       " 'smartmirror-application',\n",
       " 'java-algorithm',\n",
       " 'java-oncall-6-1000zoo',\n",
       " 'java-pairmatching-precourse',\n",
       " 'java-menu',\n",
       " 'java-subway-path-precourse',\n",
       " 'java-leetcode',\n",
       " 'spring-boot-jpa-01',\n",
       " 'java-christmas-6-1000zoo',\n",
       " 'java-lotto-6',\n",
       " 'junit-study',\n",
       " 'java-racingcar-6',\n",
       " 'java-baseball-6',\n",
       " 'java-extra-practice',\n",
       " 'java-lotto',\n",
       " 'coding-interview-practice',\n",
       " 'java-baseball',\n",
       " 'spring-basic',\n",
       " 'java-onboarding',\n",
       " 'sudoku-solver',\n",
       " 'java-standard',\n",
       " 'github-study',\n",
       " 'smartmirror-server',\n",
       " 'fitbit-server',\n",
       " 'neuro-image',\n",
       " 'softeer-java',\n",
       " 'flappy-bird-ai',\n",
       " 'reinforcement-learning',\n",
       " 'flutter_book',\n",
       " 'python-practice',\n",
       " 'upbit',\n",
       " 'riwha_project',\n",
       " 'amerry-vs-kano',\n",
       " 'ann',\n",
       " 'sw-experiments',\n",
       " 'nueroengineering']"
      ]
     },
     "execution_count": 19,
     "metadata": {},
     "output_type": "execute_result"
    }
   ],
   "source": [
    "## 페이지마다 반복하기 위해 반복문 사용\n",
    "import time\n",
    "\n",
    "repo_titles = []\n",
    "page = 1\n",
    "while True:\n",
    "    res = requests.get(f\"https://github.com/1000zoo?page={page}&tab=repositories\", user_agent)\n",
    "    temp = parse(res.text)\n",
    "    if not temp:\n",
    "        break\n",
    "    repo_titles.extend(temp)\n",
    "    page += 1\n",
    "    time.sleep(0.5)\n",
    "\n",
    "repo_titles"
   ]
  },
  {
   "cell_type": "code",
   "execution_count": null,
   "metadata": {},
   "outputs": [],
   "source": []
  }
 ],
 "metadata": {
  "kernelspec": {
   "display_name": "CryptoPilot",
   "language": "python",
   "name": "python3"
  },
  "language_info": {
   "codemirror_mode": {
    "name": "ipython",
    "version": 3
   },
   "file_extension": ".py",
   "mimetype": "text/x-python",
   "name": "python",
   "nbconvert_exporter": "python",
   "pygments_lexer": "ipython3",
   "version": "3.11.8"
  }
 },
 "nbformat": 4,
 "nbformat_minor": 2
}
