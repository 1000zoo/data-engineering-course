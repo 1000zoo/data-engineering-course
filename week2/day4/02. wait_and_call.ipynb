{
 "cells": [
  {
   "cell_type": "markdown",
   "metadata": {},
   "source": [
    "# Wait and Call\n",
    "- 동적 웹사이트를 스크래핑 하기 위한 방법\n",
    "- 이 [사이트](https://indistreet.com/live?sortOption=startDate%3AASC)를 스크래핑 해보자"
   ]
  },
  {
   "cell_type": "code",
   "execution_count": 1,
   "metadata": {},
   "outputs": [],
   "source": [
    "from selenium import webdriver\n",
    "from selenium.webdriver.chrome.service import Service\n",
    "from selenium.webdriver.common.by import By\n",
    "from webdriver_manager.chrome import ChromeDriverManager"
   ]
  },
  {
   "cell_type": "markdown",
   "metadata": {},
   "source": [
    "## Wait\n",
    "- 동적 웹 사이트에서는 request를 보냈을 때, 아직 원하는 데이터가 로딩되지 않았을 수 있다.\n",
    "- 운이 좋아서 순서가 맞게 처리가 된다면, 원하는 요소를 불러올 수 있겠지만\n",
    "- 대부분의 경우에 아래처럼 에러가 발생하게 된다."
   ]
  },
  {
   "cell_type": "code",
   "execution_count": 8,
   "metadata": {},
   "outputs": [
    {
     "ename": "NoSuchElementException",
     "evalue": "Message: no such element: Unable to locate element: {\"method\":\"xpath\",\"selector\":\"//*[@id=\"__next\"]/div/main/div[2]/div/div[4]/div[1]/div[3]/div/a/div[2]/p[1]\"}\n  (Session info: chrome=123.0.6312.106); For documentation on this error, please visit: https://www.selenium.dev/documentation/webdriver/troubleshooting/errors#no-such-element-exception\nStacktrace:\n0   chromedriver                        0x0000000100f1441c chromedriver + 4326428\n1   chromedriver                        0x0000000100f0c8e4 chromedriver + 4294884\n2   chromedriver                        0x0000000100b38088 chromedriver + 278664\n3   chromedriver                        0x0000000100b7aa80 chromedriver + 551552\n4   chromedriver                        0x0000000100bb34f8 chromedriver + 783608\n5   chromedriver                        0x0000000100b6f4e4 chromedriver + 505060\n6   chromedriver                        0x0000000100b6ff5c chromedriver + 507740\n7   chromedriver                        0x0000000100ed79b8 chromedriver + 4078008\n8   chromedriver                        0x0000000100edc770 chromedriver + 4097904\n9   chromedriver                        0x0000000100ebe55c chromedriver + 3974492\n10  chromedriver                        0x0000000100edd088 chromedriver + 4100232\n11  chromedriver                        0x0000000100eafb4c chromedriver + 3914572\n12  chromedriver                        0x0000000100efd690 chromedriver + 4232848\n13  chromedriver                        0x0000000100efd80c chromedriver + 4233228\n14  chromedriver                        0x0000000100f0c558 chromedriver + 4293976\n15  libsystem_pthread.dylib             0x00000001804fef94 _pthread_start + 136\n16  libsystem_pthread.dylib             0x00000001804f9d34 thread_start + 8\n",
     "output_type": "error",
     "traceback": [
      "\u001b[0;31m---------------------------------------------------------------------------\u001b[0m",
      "\u001b[0;31mNoSuchElementException\u001b[0m                    Traceback (most recent call last)",
      "Cell \u001b[0;32mIn[8], line 3\u001b[0m\n\u001b[1;32m      1\u001b[0m driver \u001b[38;5;241m=\u001b[39m webdriver\u001b[38;5;241m.\u001b[39mChrome(service\u001b[38;5;241m=\u001b[39mService(ChromeDriverManager()\u001b[38;5;241m.\u001b[39minstall()))\n\u001b[1;32m      2\u001b[0m driver\u001b[38;5;241m.\u001b[39mget(\u001b[38;5;124m\"\u001b[39m\u001b[38;5;124mhttps://indistreet.com/live?sortOption=startDate\u001b[39m\u001b[38;5;124m%\u001b[39m\u001b[38;5;124m3AASC\u001b[39m\u001b[38;5;124m\"\u001b[39m)\n\u001b[0;32m----> 3\u001b[0m ele \u001b[38;5;241m=\u001b[39m \u001b[43mdriver\u001b[49m\u001b[38;5;241;43m.\u001b[39;49m\u001b[43mfind_element\u001b[49m\u001b[43m(\u001b[49m\u001b[43mBy\u001b[49m\u001b[38;5;241;43m.\u001b[39;49m\u001b[43mXPATH\u001b[49m\u001b[43m,\u001b[49m\u001b[43m \u001b[49m\u001b[38;5;124;43m'\u001b[39;49m\u001b[38;5;124;43m//*[@id=\u001b[39;49m\u001b[38;5;124;43m\"\u001b[39;49m\u001b[38;5;124;43m__next\u001b[39;49m\u001b[38;5;124;43m\"\u001b[39;49m\u001b[38;5;124;43m]/div/main/div[2]/div/div[4]/div[1]/div[3]/div/a/div[2]/p[1]\u001b[39;49m\u001b[38;5;124;43m'\u001b[39;49m\u001b[43m)\u001b[49m\n\u001b[1;32m      4\u001b[0m ele\u001b[38;5;241m.\u001b[39mtext\n",
      "File \u001b[0;32m~/miniforge3/envs/CryptoPilot/lib/python3.11/site-packages/selenium/webdriver/remote/webdriver.py:741\u001b[0m, in \u001b[0;36mWebDriver.find_element\u001b[0;34m(self, by, value)\u001b[0m\n\u001b[1;32m    738\u001b[0m     by \u001b[38;5;241m=\u001b[39m By\u001b[38;5;241m.\u001b[39mCSS_SELECTOR\n\u001b[1;32m    739\u001b[0m     value \u001b[38;5;241m=\u001b[39m \u001b[38;5;124mf\u001b[39m\u001b[38;5;124m'\u001b[39m\u001b[38;5;124m[name=\u001b[39m\u001b[38;5;124m\"\u001b[39m\u001b[38;5;132;01m{\u001b[39;00mvalue\u001b[38;5;132;01m}\u001b[39;00m\u001b[38;5;124m\"\u001b[39m\u001b[38;5;124m]\u001b[39m\u001b[38;5;124m'\u001b[39m\n\u001b[0;32m--> 741\u001b[0m \u001b[38;5;28;01mreturn\u001b[39;00m \u001b[38;5;28;43mself\u001b[39;49m\u001b[38;5;241;43m.\u001b[39;49m\u001b[43mexecute\u001b[49m\u001b[43m(\u001b[49m\u001b[43mCommand\u001b[49m\u001b[38;5;241;43m.\u001b[39;49m\u001b[43mFIND_ELEMENT\u001b[49m\u001b[43m,\u001b[49m\u001b[43m \u001b[49m\u001b[43m{\u001b[49m\u001b[38;5;124;43m\"\u001b[39;49m\u001b[38;5;124;43musing\u001b[39;49m\u001b[38;5;124;43m\"\u001b[39;49m\u001b[43m:\u001b[49m\u001b[43m \u001b[49m\u001b[43mby\u001b[49m\u001b[43m,\u001b[49m\u001b[43m \u001b[49m\u001b[38;5;124;43m\"\u001b[39;49m\u001b[38;5;124;43mvalue\u001b[39;49m\u001b[38;5;124;43m\"\u001b[39;49m\u001b[43m:\u001b[49m\u001b[43m \u001b[49m\u001b[43mvalue\u001b[49m\u001b[43m}\u001b[49m\u001b[43m)\u001b[49m[\u001b[38;5;124m\"\u001b[39m\u001b[38;5;124mvalue\u001b[39m\u001b[38;5;124m\"\u001b[39m]\n",
      "File \u001b[0;32m~/miniforge3/envs/CryptoPilot/lib/python3.11/site-packages/selenium/webdriver/remote/webdriver.py:347\u001b[0m, in \u001b[0;36mWebDriver.execute\u001b[0;34m(self, driver_command, params)\u001b[0m\n\u001b[1;32m    345\u001b[0m response \u001b[38;5;241m=\u001b[39m \u001b[38;5;28mself\u001b[39m\u001b[38;5;241m.\u001b[39mcommand_executor\u001b[38;5;241m.\u001b[39mexecute(driver_command, params)\n\u001b[1;32m    346\u001b[0m \u001b[38;5;28;01mif\u001b[39;00m response:\n\u001b[0;32m--> 347\u001b[0m     \u001b[38;5;28;43mself\u001b[39;49m\u001b[38;5;241;43m.\u001b[39;49m\u001b[43merror_handler\u001b[49m\u001b[38;5;241;43m.\u001b[39;49m\u001b[43mcheck_response\u001b[49m\u001b[43m(\u001b[49m\u001b[43mresponse\u001b[49m\u001b[43m)\u001b[49m\n\u001b[1;32m    348\u001b[0m     response[\u001b[38;5;124m\"\u001b[39m\u001b[38;5;124mvalue\u001b[39m\u001b[38;5;124m\"\u001b[39m] \u001b[38;5;241m=\u001b[39m \u001b[38;5;28mself\u001b[39m\u001b[38;5;241m.\u001b[39m_unwrap_value(response\u001b[38;5;241m.\u001b[39mget(\u001b[38;5;124m\"\u001b[39m\u001b[38;5;124mvalue\u001b[39m\u001b[38;5;124m\"\u001b[39m, \u001b[38;5;28;01mNone\u001b[39;00m))\n\u001b[1;32m    349\u001b[0m     \u001b[38;5;28;01mreturn\u001b[39;00m response\n",
      "File \u001b[0;32m~/miniforge3/envs/CryptoPilot/lib/python3.11/site-packages/selenium/webdriver/remote/errorhandler.py:229\u001b[0m, in \u001b[0;36mErrorHandler.check_response\u001b[0;34m(self, response)\u001b[0m\n\u001b[1;32m    227\u001b[0m         alert_text \u001b[38;5;241m=\u001b[39m value[\u001b[38;5;124m\"\u001b[39m\u001b[38;5;124malert\u001b[39m\u001b[38;5;124m\"\u001b[39m]\u001b[38;5;241m.\u001b[39mget(\u001b[38;5;124m\"\u001b[39m\u001b[38;5;124mtext\u001b[39m\u001b[38;5;124m\"\u001b[39m)\n\u001b[1;32m    228\u001b[0m     \u001b[38;5;28;01mraise\u001b[39;00m exception_class(message, screen, stacktrace, alert_text)  \u001b[38;5;66;03m# type: ignore[call-arg]  # mypy is not smart enough here\u001b[39;00m\n\u001b[0;32m--> 229\u001b[0m \u001b[38;5;28;01mraise\u001b[39;00m exception_class(message, screen, stacktrace)\n",
      "\u001b[0;31mNoSuchElementException\u001b[0m: Message: no such element: Unable to locate element: {\"method\":\"xpath\",\"selector\":\"//*[@id=\"__next\"]/div/main/div[2]/div/div[4]/div[1]/div[3]/div/a/div[2]/p[1]\"}\n  (Session info: chrome=123.0.6312.106); For documentation on this error, please visit: https://www.selenium.dev/documentation/webdriver/troubleshooting/errors#no-such-element-exception\nStacktrace:\n0   chromedriver                        0x0000000100f1441c chromedriver + 4326428\n1   chromedriver                        0x0000000100f0c8e4 chromedriver + 4294884\n2   chromedriver                        0x0000000100b38088 chromedriver + 278664\n3   chromedriver                        0x0000000100b7aa80 chromedriver + 551552\n4   chromedriver                        0x0000000100bb34f8 chromedriver + 783608\n5   chromedriver                        0x0000000100b6f4e4 chromedriver + 505060\n6   chromedriver                        0x0000000100b6ff5c chromedriver + 507740\n7   chromedriver                        0x0000000100ed79b8 chromedriver + 4078008\n8   chromedriver                        0x0000000100edc770 chromedriver + 4097904\n9   chromedriver                        0x0000000100ebe55c chromedriver + 3974492\n10  chromedriver                        0x0000000100edd088 chromedriver + 4100232\n11  chromedriver                        0x0000000100eafb4c chromedriver + 3914572\n12  chromedriver                        0x0000000100efd690 chromedriver + 4232848\n13  chromedriver                        0x0000000100efd80c chromedriver + 4233228\n14  chromedriver                        0x0000000100f0c558 chromedriver + 4293976\n15  libsystem_pthread.dylib             0x00000001804fef94 _pthread_start + 136\n16  libsystem_pthread.dylib             0x00000001804f9d34 thread_start + 8\n"
     ]
    }
   ],
   "source": [
    "driver = webdriver.Chrome(service=Service(ChromeDriverManager().install()))\n",
    "driver.get(\"https://indistreet.com/live?sortOption=startDate%3AASC\")\n",
    "ele = driver.find_element(By.XPATH, '//*[@id=\"__next\"]/div/main/div[2]/div/div[4]/div[1]/div[3]/div/a/div[2]/p[1]')\n",
    "ele.text"
   ]
  },
  {
   "cell_type": "markdown",
   "metadata": {},
   "source": [
    "### Wait 사용하기\n"
   ]
  },
  {
   "cell_type": "code",
   "execution_count": 15,
   "metadata": {},
   "outputs": [
    {
     "name": "stdout",
     "output_type": "stream",
     "text": [
      "이디어츠 1st EP 발매기념 공연\n"
     ]
    }
   ],
   "source": [
    "TARGET_URL = \"https://indistreet.com/live?sortOption=startDate%3AASC\"\n",
    "TARGET_XPATH = '//*[@id=\"__next\"]/div/main/div[2]/div/div[4]/div[1]/div[3]/div/a/div[2]/p[1]'\n",
    "\n",
    "### implict wait\n",
    "with webdriver.Chrome(service=Service(ChromeDriverManager().install())) as driver:\n",
    "    driver.get(TARGET_URL)\n",
    "    driver.implicitly_wait(10)\n",
    "    ele = driver.find_element(By.XPATH, TARGET_XPATH)\n",
    "    print(ele.text)"
   ]
  },
  {
   "cell_type": "code",
   "execution_count": 16,
   "metadata": {},
   "outputs": [
    {
     "name": "stdout",
     "output_type": "stream",
     "text": [
      "이디어츠 1st EP 발매기념 공연\n"
     ]
    }
   ],
   "source": [
    "### explicit wait\n",
    "from selenium.webdriver.support.ui import WebDriverWait\n",
    "from selenium.webdriver.support import expected_conditions as EC\n",
    "\n",
    "with webdriver.Chrome(service=Service(ChromeDriverManager().install())) as driver:\n",
    "    driver.get(TARGET_URL)\n",
    "    ele = WebDriverWait(driver, 10).until(EC.presence_of_element_located((By.XPATH, TARGET_XPATH)))\n",
    "    print(ele.text)"
   ]
  },
  {
   "cell_type": "markdown",
   "metadata": {},
   "source": [
    "## 여러 요소 불러오기\n",
    "//*[@id=\"__next\"]/div/main/div[2]/div/div[4]/div[1]/div[3]/div/a/div[2]/p[1]\n",
    "//*[@id=\"__next\"]/div/main/div[2]/div/div[4]/div[1]/div[4]/div/a/div[2]/p[1]"
   ]
  },
  {
   "cell_type": "code",
   "execution_count": 18,
   "metadata": {},
   "outputs": [
    {
     "name": "stdout",
     "output_type": "stream",
     "text": [
      "//*[@id=\"__next\"]/div/main/div[2]/div/div[4]/div[1]/div[k]/div/a/div[2]/p[1]\n"
     ]
    }
   ],
   "source": [
    "XPATH_PATTERN = '//*[@id=\"__next\"]/div/main/div[2]/div/div[4]/div[1]/div[{i}]/div/a/div[2]/p[1]'\n",
    "\n",
    "with webdriver.Chrome(service=Service(ChromeDriverManager().install())) as driver:\n",
    "    driver.get(TARGET_URL)\n",
    "    for i in range(1, 20)\n"
   ]
  },
  {
   "cell_type": "code",
   "execution_count": null,
   "metadata": {},
   "outputs": [],
   "source": []
  }
 ],
 "metadata": {
  "kernelspec": {
   "display_name": "Python 3",
   "language": "python",
   "name": "python3"
  },
  "language_info": {
   "codemirror_mode": {
    "name": "ipython",
    "version": 3
   },
   "file_extension": ".py",
   "mimetype": "text/x-python",
   "name": "python",
   "nbconvert_exporter": "python",
   "pygments_lexer": "ipython3",
   "version": "3.11.8"
  }
 },
 "nbformat": 4,
 "nbformat_minor": 2
}
