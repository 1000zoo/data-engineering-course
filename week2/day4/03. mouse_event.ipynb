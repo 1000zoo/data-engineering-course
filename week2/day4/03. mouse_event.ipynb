{
 "cells": [
  {
   "cell_type": "markdown",
   "metadata": {},
   "source": [
    "# 마우스 이벤트 처리하기\n",
    "- Selenium을 이용하여 마우스 이벤트 동작\n",
    "\n",
    "## 마우스 이벤트 오퍼레이션\n",
    "- move\n",
    "- press down\n",
    "- press up\n",
    "- ...\n",
    "- click"
   ]
  },
  {
   "cell_type": "code",
   "execution_count": 1,
   "metadata": {},
   "outputs": [],
   "source": [
    "# 라이브러리 불러오기\n",
    "\n",
    "from selenium import webdriver\n",
    "from selenium.webdriver import ActionChains\n",
    "from selenium.webdriver.chrome.service import Service\n",
    "from selenium.webdriver.common.by import By\n",
    "from webdriver_manager.chrome import ChromeDriverManager"
   ]
  },
  {
   "cell_type": "markdown",
   "metadata": {},
   "source": [
    "## 마우스 이벤트로 로그인하기\n",
    "- [네이버](https://naver.com) 로그인창 열기\n",
    "\n",
    "\n",
    "- 아래 코드의 결과"
   ]
  },
  {
   "cell_type": "code",
   "execution_count": 15,
   "metadata": {},
   "outputs": [],
   "source": [
    "TARGET_URL = \"https://naver.com\"\n",
    "\n",
    "driver = webdriver.Chrome(service=Service(ChromeDriverManager().install()))\n",
    "driver.get(TARGET_URL)\n",
    "driver.implicitly_wait(0.5)\n",
    "\n",
    "button = driver.find_element(By.CLASS_NAME, \"MyView-module__link_login___HpHMW\")\n",
    "ActionChains(driver).click(button).perform()\n"
   ]
  },
  {
   "cell_type": "code",
   "execution_count": null,
   "metadata": {},
   "outputs": [],
   "source": []
  }
 ],
 "metadata": {
  "kernelspec": {
   "display_name": "Python 3",
   "language": "python",
   "name": "python3"
  },
  "language_info": {
   "codemirror_mode": {
    "name": "ipython",
    "version": 3
   },
   "file_extension": ".py",
   "mimetype": "text/x-python",
   "name": "python",
   "nbconvert_exporter": "python",
   "pygments_lexer": "ipython3",
   "version": "3.11.8"
  }
 },
 "nbformat": 4,
 "nbformat_minor": 2
}
