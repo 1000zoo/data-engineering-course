{
 "cells": [
  {
   "cell_type": "markdown",
   "metadata": {},
   "source": [
    "# 키보드 이벤트 처리하기\n",
    "- 이벤트 종류는 마우스와 유사하다.\n",
    "- 단, 키보드의 경우 문자열을 추가적으로 넣을 수 있다."
   ]
  },
  {
   "cell_type": "code",
   "execution_count": 1,
   "metadata": {},
   "outputs": [],
   "source": [
    "## 라이브러리 불러오기\n",
    "from selenium import webdriver\n",
    "from selenium.webdriver import ActionChains\n",
    "from webdriver_manager.chrome import ChromeDriverManager\n",
    "from selenium.webdriver.common.actions.action_builder import ActionBuilder\n",
    "from selenium.webdriver import Keys, ActionChains\n",
    "from selenium.webdriver.chrome.service import Service\n",
    "from selenium.webdriver.common.by import By"
   ]
  },
  {
   "cell_type": "markdown",
   "metadata": {},
   "source": [
    "# 키보드로 로그인하기\n",
    "- [네이버](https://naver.com) 에서 로그인 버튼을 찾아 로그인 창으로 이동하고,\n",
    "- 이메일과 비밀번호를 입력하여 로그인 해보자.\n",
    "\n",
    "![keyboard_event_result.gif](results/keyboard_event_result.gif)"
   ]
  },
  {
   "cell_type": "code",
   "execution_count": 17,
   "metadata": {},
   "outputs": [],
   "source": [
    "TARGET_URL = \"https://naver.com\"\n",
    "\n",
    "driver = webdriver.Chrome(service=Service(ChromeDriverManager().install()))\n",
    "\n",
    "driver.get(TARGET_URL)\n",
    "driver.implicitly_wait(0.5)\n",
    "\n",
    "button = driver.find_element(By.CLASS_NAME, \"MyView-module__link_login___HpHMW\")\n",
    "ActionChains(driver).click(button).perform()\n",
    "\n",
    "id = driver.find_element(By.ID, \"id\")\n",
    "ActionChains(driver).send_keys_to_element(id, \"myid\").perform()\n",
    "\n",
    "password = driver.find_element(By.ID, \"pw\")\n",
    "ActionChains(driver).send_keys_to_element(password, \"mypassword!\").perform()\n",
    "\n",
    "login = driver.find_element(By.ID, \"log.login\")\n",
    "ActionChains(driver).click(login).perform()\n"
   ]
  }
 ],
 "metadata": {
  "kernelspec": {
   "display_name": "Python 3",
   "language": "python",
   "name": "python3"
  },
  "language_info": {
   "codemirror_mode": {
    "name": "ipython",
    "version": 3
   },
   "file_extension": ".py",
   "mimetype": "text/x-python",
   "name": "python",
   "nbconvert_exporter": "python",
   "pygments_lexer": "ipython3",
   "version": "3.11.8"
  }
 },
 "nbformat": 4,
 "nbformat_minor": 2
}
