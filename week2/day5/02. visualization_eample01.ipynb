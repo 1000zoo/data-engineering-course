{
 "cells": [
  {
   "cell_type": "markdown",
   "metadata": {},
   "source": [
    "# 기상청 날씨 정보 시각화하기\n",
    "- [기상청](https://www.weather.go.kr/w/weather/forecast/short-term.do)에서 온도 불러오기\n"
   ]
  },
  {
   "cell_type": "code",
   "execution_count": 1,
   "metadata": {},
   "outputs": [],
   "source": [
    "# 스크래핑에 필요한 라이브러리를 불러와봅시다.\n",
    "\n",
    "from selenium import webdriver\n",
    "from selenium.webdriver import ActionChains\n",
    "from webdriver_manager.chrome import ChromeDriverManager\n",
    "from selenium.webdriver.common.actions.action_builder import ActionBuilder\n",
    "from selenium.webdriver import Keys, ActionChains\n",
    "from selenium.webdriver.chrome.service import Service\n",
    "from selenium.webdriver.common.by import By"
   ]
  },
  {
   "cell_type": "code",
   "execution_count": 20,
   "metadata": {},
   "outputs": [
    {
     "name": "stdout",
     "output_type": "stream",
     "text": [
      "17℃\n",
      "17℃\n",
      "16℃\n",
      "14℃\n",
      "13℃\n",
      "12℃\n",
      "11℃\n",
      "11℃\n",
      "10℃\n",
      "10℃\n",
      "10℃\n",
      "9℃\n",
      "9℃\n",
      "9℃\n",
      "9℃\n",
      "9℃\n",
      "12℃\n",
      "14℃\n"
     ]
    }
   ],
   "source": [
    "TAG = \"highcharts-label.highcharts-data-label.highcharts-data-label-color-undefined\"\n",
    "with webdriver.Chrome(service=Service(ChromeDriverManager().install())) as driver:\n",
    "    driver.get(\"https://www.weather.go.kr/w/weather/forecast/short-term.do\")\n",
    "    driver.implicitly_wait(10)\n",
    "    chart = driver.find_element(By.CLASS_NAME, \"tchart\")\n",
    "    print(chart.text)"
   ]
  },
  {
   "cell_type": "code",
   "execution_count": null,
   "metadata": {},
   "outputs": [],
   "source": []
  }
 ],
 "metadata": {
  "kernelspec": {
   "display_name": "CryptoPilot",
   "language": "python",
   "name": "python3"
  },
  "language_info": {
   "codemirror_mode": {
    "name": "ipython",
    "version": 3
   },
   "file_extension": ".py",
   "mimetype": "text/x-python",
   "name": "python",
   "nbconvert_exporter": "python",
   "pygments_lexer": "ipython3",
   "version": "3.11.8"
  }
 },
 "nbformat": 4,
 "nbformat_minor": 2
}
