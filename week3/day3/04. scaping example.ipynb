{
 "cells": [
  {
   "cell_type": "markdown",
   "metadata": {},
   "source": [
    "# Scraping 예제 2\n",
    "[사이트](https://qna.programmers.co.kr/)에서 질문 내용을 스크래핑하기"
   ]
  },
  {
   "cell_type": "code",
   "execution_count": 1,
   "metadata": {},
   "outputs": [],
   "source": [
    "import requests\n",
    "from bs4 import BeautifulSoup as BS"
   ]
  },
  {
   "cell_type": "markdown",
   "metadata": {},
   "source": [
    "## User Agent\n",
    "- 서버측에 누가 요청을 보내는 지 명시"
   ]
  },
  {
   "cell_type": "code",
   "execution_count": 9,
   "metadata": {},
   "outputs": [],
   "source": [
    "user_agent = {\"User-Agent\": \"Mozilla/5.0 (Macintosh; Intel Mac OS X 10_15_4) AppleWebKit/537.36 (KHTML, like Gecko) Chrome/83.0.4103.97 Safari/537.36\"}\n",
    "res = requests.get(\"https://hashcode.co.kr\", user_agent)\n",
    "bs = BS(res.text, \"html.parser\")"
   ]
  },
  {
   "cell_type": "code",
   "execution_count": 15,
   "metadata": {},
   "outputs": [
    {
     "name": "stdout",
     "output_type": "stream",
     "text": [
      "text에니메이션 효과를 영상처럼 표현하고 싶어요!!!\n",
      "[플러터] 다른 사람의 작업물 실행하니 빈화면이 뜹니다.\n",
      "백엔드 개발자로 1년간 취준했던 신입입니다. IT 쪽 개발 전망에 대해 몇가지 궁금한 점이 있습니다.\n",
      "욜로와 텐서플로우\n",
      "파이썬 확장파일을 만든후 열려고 하면 순식간에 열린듯 하다가 사라져버립니다.\n",
      "certbot으로 받은 인증서로 ssl 접속이 안됩니다\n",
      "파이썬 초보입니다. 5×5로 입력을 받아서 가장 긴 막대기의 길이를 출력하는 코드\n",
      "링버퍼 내 & 연산자를 모르겠습니다.\n",
      "next js 와 express 연동 질문\n",
      "c언어 연산자 우선순위 질문\n",
      "가져오기를 못 하겠습니다\n",
      "cafe24 CSS 로그인버튼 가운데정렬 질문드립니다.\n",
      "크롤링 오류 (사진을 다운을 못받아요)\n",
      "Warning : Undefined array key \"\" in /hosting/myh/html/usersconsole.php on line 43\n",
      "php sql 문 회원관리\n",
      "자바 클래스 추가만으로 객체 생성하기\n",
      "Rapipay Login\n",
      "xcode로 c언어 파일 생성및 작성하고 싶은데 뭐가 문제인지 모르겠네요\n",
      "OLS 모델 계수 역변환 방법\n",
      "도움 부탁드립니다\n",
      "java while문 사용 후 반복시 글자 밀림\n",
      "Random number wheel\n",
      "[Vue.js] JSON 파싱 시 같은 포맷으로 2건 응답 받는데 하나만 정상적으로 받는 경우\n",
      "파이썬의 데이터 액세스 시간을 줄이지 않는 방법을 알고 싶습니다\n",
      "EC2 로드 밸런서 HTTPS 트래픽 처리불능에 대해 질문합니다.\n",
      "Escorts in Hyderabad\n",
      "Picnob\n",
      "puppeteer 로그인 세션 유지 관련 질문입니다\n",
      "지도 롱탭 기능\n",
      "어떤 부분에서 오류가 발생했는지 모르겠습니다.\n",
      "python ax.bar3d 그래프의 축 값과 축 위치가 어긋남\n",
      "백준허브 연동 에러 해결방법\n",
      "음성 감정 인식 api\n",
      "gulp + scss 사용시 sourcemaps 설정\n",
      "모두의 코드 사이트 저만 안 들어가지나요..\n",
      "타입스크립트 데코레이터 에러가 나요\n",
      "yum 없이 yum 패키지 다운받는 방법. 설치 없이. \n",
      "전문가의 통찰력으로 예상치 못한 Python 목록 문제 탐색\n",
      "c++에서 포인터와 배열 파트 질문\n",
      "Python ai 관련 모듈 중 API 형태로 간단하게 가져올만한 AI 모듈이 있을까요?\n",
      "{\"message\": \"엔드포인트 요청 시간이 초과되었습니다\"} 이게 뭐죠?\n",
      "python 기초 질문 1 (A+B)\n",
      "자료구조와 알고리즘 관련 학습 질문\n",
      "PCCP 기출문제] 1번 / 붕대 감기\n",
      "verbose 옵션 구현하는 방법\n",
      "C++ if else 문에서 계속 오류가 납니다\n",
      "오류 원인 문의\n",
      "실제 시장에 내놓을 상품을 만드는 프로젝트를 진행하려 하는데, 어떤 언어와 플랫폼들을 사용하는게 좋을지 고민입니다.\n",
      "코딩 테스트 방향키 적용 안되는게 맞나요?\n",
      "코딩 테스트 언어 설정\n"
     ]
    }
   ],
   "source": [
    "question_list_items = bs.find_all(\"li\", \"question-list-item\")\n",
    "titles = []\n",
    "for question in question_list_items:\n",
    "    titles.append(question.find(\"div\", \"question\").find(\"div\", \"top\").h4.text)\n",
    "\n",
    "print(\"\\n\".join(titles))"
   ]
  },
  {
   "cell_type": "markdown",
   "metadata": {},
   "source": [
    "## Pagenation\n",
    "- 수많은 목록을 표현하는 하나의 방법\n",
    "- 많은 정보를 인덱스로 표현\n",
    "\n",
    "![image.png](img/pagenation_example.png)\n"
   ]
  },
  {
   "cell_type": "code",
   "execution_count": 19,
   "metadata": {},
   "outputs": [
    {
     "name": "stdout",
     "output_type": "stream",
     "text": [
      "page 1\n",
      "['text에니메이션 효과를 영상처럼 표현하고 싶어요!!!', '[플러터] 다른 사람의 작업물 실행하니 빈화면이 뜹니다.', '백엔드 개발자로 1년간 취준했던 신입입니다. IT 쪽 개발 전망에 대해 몇가지 궁금한 점이 있습니다.', '욜로와 텐서플로우', '파이썬 확장파일을 만든후 열려고 하면 순식간에 열린듯 하다가 사라져버립니다.', 'certbot으로 받은 인증서로 ssl 접속이 안됩니다', '파이썬 초보입니다. 5×5로 입력을 받아서 가장 긴 막대기의 길이를 출력하는 코드', '링버퍼 내 & 연산자를 모르겠습니다.', 'next js 와 express 연동 질문', 'c언어 연산자 우선순위 질문', '가져오기를 못 하겠습니다', 'cafe24 CSS 로그인버튼 가운데정렬 질문드립니다.', '크롤링 오류 (사진을 다운을 못받아요)', 'Warning : Undefined array key \"\" in /hosting/myh/html/usersconsole.php on line 43', 'php sql 문 회원관리', '자바 클래스 추가만으로 객체 생성하기', 'Rapipay Login', 'xcode로 c언어 파일 생성및 작성하고 싶은데 뭐가 문제인지 모르겠네요', 'OLS 모델 계수 역변환 방법', '도움 부탁드립니다', 'java while문 사용 후 반복시 글자 밀림', 'Random number wheel', '[Vue.js] JSON 파싱 시 같은 포맷으로 2건 응답 받는데 하나만 정상적으로 받는 경우', '파이썬의 데이터 액세스 시간을 줄이지 않는 방법을 알고 싶습니다', 'EC2 로드 밸런서 HTTPS 트래픽 처리불능에 대해 질문합니다.', 'Escorts in Hyderabad', 'Picnob', 'puppeteer 로그인 세션 유지 관련 질문입니다', '지도 롱탭 기능', '어떤 부분에서 오류가 발생했는지 모르겠습니다.', 'python ax.bar3d 그래프의 축 값과 축 위치가 어긋남', '백준허브 연동 에러 해결방법', '음성 감정 인식 api', 'gulp + scss 사용시 sourcemaps 설정', '모두의 코드 사이트 저만 안 들어가지나요..', '타입스크립트 데코레이터 에러가 나요', 'yum 없이 yum 패키지 다운받는 방법. 설치 없이. ', '전문가의 통찰력으로 예상치 못한 Python 목록 문제 탐색', 'c++에서 포인터와 배열 파트 질문', 'Python ai 관련 모듈 중 API 형태로 간단하게 가져올만한 AI 모듈이 있을까요?', '{\"message\": \"엔드포인트 요청 시간이 초과되었습니다\"} 이게 뭐죠?', 'python 기초 질문 1 (A+B)', '자료구조와 알고리즘 관련 학습 질문', 'PCCP 기출문제] 1번 / 붕대 감기', 'verbose 옵션 구현하는 방법', 'C++ if else 문에서 계속 오류가 납니다', '오류 원인 문의', '실제 시장에 내놓을 상품을 만드는 프로젝트를 진행하려 하는데, 어떤 언어와 플랫폼들을 사용하는게 좋을지 고민입니다.', '코딩 테스트 방향키 적용 안되는게 맞나요?', '코딩 테스트 언어 설정']\n",
      "page 2\n",
      "['코딩테스트 연습 오류', '스킬체크 내역들을 보고 싶습니다', '디스코드 봇 개발 중 오류가 났습니다', '프로그래머스 vim모드', '코딩테스트 연습할떄 ide사용', '안드로이드 스튜디오에서 폰 연결하는중인데요', '[javascript] 자식노드가 없는 노드만 선택하고 싶습니다.', '자바 임시메모리', 'hr 선이 안 사라집니다', 'html 반응형 웹 만들기', '문자열 검색 풀어낸 소스 평가부탁드립니다.', 'html 와르닝 표시', 'html 댓글 기능을 추가 했는데 어떻게 새로고침해도 리셋이 안될까요??', '(C언어) 실행할 때마다 결과가 달라요 (랜덤함수 없음)', 'DataTrigger로 색상변경 도중 코드 내에서 색상 수정 시 datatrigger가 작동하지 않습니다', 'Instagram api 연동 관련해서 질문이 있습니다', 'c++ 단축기 ', 'javafx 실행 질문입니다.', '쥬피터는 되고, 코랩에서는 안되는 이유?', '자바 질문이요 ㅠ', '이 html 코드 잘못 되었나요?', 'c#질문 입니다.', '모바일앱에서 상황에 따른 가상포인트 충전에 관해 인앱결제 필수 사용여부가 궁금합니다!!', '고등학생 코딩 입문자인데 p5 오류가 해결이 안돼요 ㅠㅠ', 'verilog FSM 상태도', '모바일 웹에서 qr코드를 인식해 pc웹으로 정보를 넘길 수 있을까요?', '네이버 증권 종목토론실 101번째 페이지 링크', '생기초)자료형 값 질문 signed char x 에 대해, 비트의 개념에 대해', 'c# 프로그래밍 질문', '로지스틱 회귀 (데이터 전처리 관련)', '파이썬 코드 질문 (반복문, if in ~ 관련)', '워드프레스에서 html 작성한것 을 form 으로 submit.php 로 설정했습니다 . submit .php 로 들어오는 db들을 어디서확인하나요? sql웹은 이제 서비스 단종되었잖아요 ', '문제 제출을 하였음에도 목록에서는 풀지 않은 것으로 표시됩니다.', '워드프레스에 도루코 익명게시판과 유사한 게시판을 만들고싶은데 html 은  하더라도 백앤드를 어떻게 해야하나요 ', 'C언어 연산자 우선순위 질문이요...', '파이썬 random 오류 ', '파이썬 질문 처음해봐요..', '코딩 테스트 시 인터넷 검색 허용 범위?', 'JavaScript 컴파일 챌린지: 코드 변환의 예상치 못한 결과', '리액트로 앱 제작 중인데 실시간으로 변하는 모습을 보고 싶어서요 가상 디바이스안에서 실시간으로 바뀌는 것은 어떻게 사용하나요??', '왜 안되나요', '파이썬 리스트 자료형에 따른 추출', '안드로이드 Activity의 EditText 값을 fragment의 커스텀 리스트뷰의 값으로 받아오는 과정에서 오류가 뭘까요?', '저는 현재 날짜 조작과 관련된 Java 프로젝트를 진행하고 있는데 코드에서 예상치 못한 문제를 우연히 발견했습니다. 문제의 단순화된 버전은 다음과 같습니다.', 'git default branch 변경', '차트에 데이터 반영이 제대로 안돼는것 같습니다.', 'bool형에 관한 질문입니다. (c언어)', 'PCCP 기출문제 수료증', 'GUI프로그램에서 대화상자에 대해 질문이 있습니다', '코딩테스트 시작!!!!!!']\n",
      "page 3\n",
      "['파이썬 처음 하는 사람인데 도움 부탁드립니다..', '채용 시험 볼 때 언어 제한 걸린 시험은 다른 언어로 테스트하고 언어 바꾼 다음에 규정 언어로 제출할 수 있나요?', '트위치 응용 프로그램 등록하는 방법이 궁금합니다.', 'if len(numbers) == 0: 이 None을 출력하는 방법?!', 'three.js 문의 드립니다.', '주가 데이터를 이용하여 1개월간 수익률, 2개월 간 수익률...12개월 간 수익률을 구하여 산점도로 나타내는 방법을 모르겠어요', '이 문제 코드 작성할 수 있는 분,, 코드가 안나와요..', 'C언어 코드 살려주새요 이 문제 푸실수 있는분', '아두이노 코딩 질문있습니다!!', '공공데이터 api 호출 관련해', '파이썬 rdd 질문있습니다', 'R언어 코드 질문있습니다. 값을 비교하려면 어떡해야하나요 왕초보라서요..', '아두이노 코딩 관련 질문있어요!', '혹시 개체지향언어라는게 존재하나요?', '파이썬에서 n초 이상 유지시 ~한다가 가능할까요', '파라미터는 char *error이고 인수는 \"머시기\" 이건데 인수가 char여서 안된다고오류', 'c++ error  linker command failed with exit code 1 (use -v to see invocation)', '하나의 컨트롤러로 다중쿼리문 동작시 에러', '파이썬에서 동적 클래스와 정적 클래스의 차이점을 제대로 이해한지 궁금합니다.', 'BI tool 과 Dashboard 솔루션의 차이', '틀린 부분 모르겠어요ㅠㅠ', 'flask를 vscode에서 gunicorn을 활성화해서 실행시키고 싶은데 gunicorn을 활성화했는데도 wsgi  서버를 활용하지 않느다고 오류메세지가 뜨네요', 'MSSQL 2008->2019 마이그레이션 후 게시판 정렬 문제', '묵시적 형변환', 'y값이 입력이 안됩니다.', '이 방식으로 배포하는 게 맞나요?', '스택 자료 삭제 알고리즘 문제 관련 궁금한 점', '프로그램에 대하여', 'iframe의 토큰 관련 질문입니다!', 'css border 속성 관련 질문 드립니다. ', 'vscode 관련 질문 드립니다.', 'Flutter를 노마드코더를 통해 공부하려는데 세팅에서 막혔어요', '프로그래머스 입문', '파이썬 기본 문제', '정답은 12인데 결과값이 15가 나옵니다', '메모리 해제 관련해서 질문 있습니다', 'vscode 모듈 불러오기 오류 질문', '코딩 연습문제로 짝수의 합 문제에서 ', '목표를 달성하기 위한 최고의 프로그래밍 언어 선택', '[Django] TypeError: Object of type InMemoryUploadedFile is not JSON serializable 오류', '자바  오류 질문', '자바스크립트, mysql 로그인 화면 구현 질문입니다.', 'C, C++ 구구단 단 옮기기 질문드립니다.', \"파이썬 오류 질문드려요. AttributeError: 'Turtle' object has no attribute 'onkeypress'\", 'C언어 pancake sorting 질문드립니다.', 'NestJS 질문입니다. ', 'mediafoundation을 이용하여 라이브영상을 출력하려 합니다', 'python pandas dataframe을 엑셀 vlookup처럼 활용하고 싶은데 쉽지 않습니다. 도와주세요', 'c언어 단순 질문', '선행 프로세스가 죽으면서 메모리 객체를 후행 프로세스로 넘기는 Fancy한 방법 ']\n"
     ]
    }
   ],
   "source": [
    "import time\n",
    "\n",
    "for i in range(1, 4):\n",
    "    res = requests.get(f\"https://hashcode.co.kr/?page={i}\", user_agent)\n",
    "    bs = BS(res.text, \"html.parser\")\n",
    "    question_list_items = bs.find_all(\"li\", \"question-list-item\")\n",
    "    titles = []\n",
    "    for question in question_list_items:\n",
    "        titles.append(question.find(\"div\", \"question\").find(\"div\", \"top\").h4.text)\n",
    "    \n",
    "    print(\"page\", i)\n",
    "    print(titles)\n",
    "    time.sleep(0.5)\n",
    "\n",
    "    "
   ]
  }
 ],
 "metadata": {
  "kernelspec": {
   "display_name": "CryptoPilot",
   "language": "python",
   "name": "python3"
  },
  "language_info": {
   "codemirror_mode": {
    "name": "ipython",
    "version": 3
   },
   "file_extension": ".py",
   "mimetype": "text/x-python",
   "name": "python",
   "nbconvert_exporter": "python",
   "pygments_lexer": "ipython3",
   "version": "3.11.8"
  }
 },
 "nbformat": 4,
 "nbformat_minor": 2
}
